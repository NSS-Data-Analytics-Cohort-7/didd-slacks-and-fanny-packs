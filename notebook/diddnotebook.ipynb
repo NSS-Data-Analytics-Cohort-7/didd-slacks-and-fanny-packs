{
 "cells": [
  {
   "cell_type": "code",
   "execution_count": null,
   "id": "9979dfbb",
   "metadata": {},
   "outputs": [],
   "source": [
    "import pandas as pd\n",
    "import numpy as np\n",
    "import matplotlib.pyplot as plt\n",
    "import seaborn as sns"
   ]
  },
  {
   "cell_type": "markdown",
   "id": "6dd7ac7c",
   "metadata": {},
   "source": [
    "elig_df = elig_df.astype({\"Child_ID\": 'float'})\n",
    "\n",
    "###idea"
   ]
  },
  {
   "cell_type": "code",
   "execution_count": null,
   "id": "e1280e6f",
   "metadata": {},
   "outputs": [],
   "source": [
    "eco = pd.read_excel(\"../data/TEIS-NSS Project Data 10-2022.xlsx\",sheet_name=('ECO with Exit21-22'))\n",
    "elig = pd.read_excel(\"../data/TEIS-NSS Project Data 10-2022.xlsx\",sheet_name=('Elig Timeline Rpt 2018-2022'))"
   ]
  },
  {
   "cell_type": "code",
   "execution_count": null,
   "id": "43e1d80d",
   "metadata": {
    "scrolled": true
   },
   "outputs": [],
   "source": [
    "eco.head()"
   ]
  },
  {
   "cell_type": "code",
   "execution_count": null,
   "id": "7982a5ff",
   "metadata": {},
   "outputs": [],
   "source": [
    "elig.head()"
   ]
  },
  {
   "cell_type": "code",
   "execution_count": null,
   "id": "605c7154",
   "metadata": {},
   "outputs": [],
   "source": [
    "eco.shape"
   ]
  },
  {
   "cell_type": "code",
   "execution_count": null,
   "id": "77a6717e",
   "metadata": {},
   "outputs": [],
   "source": [
    "elig.shape"
   ]
  },
  {
   "cell_type": "code",
   "execution_count": null,
   "id": "d98f78cf",
   "metadata": {},
   "outputs": [],
   "source": [
    "eco.dtypes"
   ]
  },
  {
   "cell_type": "code",
   "execution_count": null,
   "id": "03ea858f",
   "metadata": {},
   "outputs": [],
   "source": [
    "elig.dtypes"
   ]
  },
  {
   "cell_type": "code",
   "execution_count": null,
   "id": "a9f5fea1",
   "metadata": {},
   "outputs": [],
   "source": [
    "eco.tail()"
   ]
  },
  {
   "cell_type": "code",
   "execution_count": null,
   "id": "ba464207",
   "metadata": {},
   "outputs": [],
   "source": [
    "elig.tail()"
   ]
  },
  {
   "cell_type": "code",
   "execution_count": null,
   "id": "db88678e",
   "metadata": {},
   "outputs": [],
   "source": [
    "ieg = elig['Init. Elig. Category']"
   ]
  },
  {
   "cell_type": "code",
   "execution_count": null,
   "id": "88a4b4e6",
   "metadata": {},
   "outputs": [],
   "source": [
    "ieg.unique()"
   ]
  },
  {
   "cell_type": "code",
   "execution_count": null,
   "id": "d2a6dbb0",
   "metadata": {},
   "outputs": [],
   "source": []
  }
 ],
 "metadata": {
  "kernelspec": {
   "display_name": "Python 3 (ipykernel)",
   "language": "python",
   "name": "python3"
  },
  "language_info": {
   "codemirror_mode": {
    "name": "ipython",
    "version": 3
   },
   "file_extension": ".py",
   "mimetype": "text/x-python",
   "name": "python",
   "nbconvert_exporter": "python",
   "pygments_lexer": "ipython3",
   "version": "3.9.12"
  }
 },
 "nbformat": 4,
 "nbformat_minor": 5
}
