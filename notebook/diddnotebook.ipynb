{
 "cells": [
  {
   "cell_type": "code",
   "execution_count": null,
   "id": "9979dfbb",
   "metadata": {},
   "outputs": [],
   "source": [
    "import pandas as pd\n",
    "import numpy as np\n",
    "import matplotlib.pyplot as plt\n",
    "import seaborn as sns\n",
    "pd.set_option('display.max_rows', 500)\n",
    "pd.set_option('display.max_columns', 500)\n",
    "pd.set_option('display.width', 1000)\n"
   ]
  },
  {
   "cell_type": "markdown",
   "id": "6dd7ac7c",
   "metadata": {},
   "source": [
    "elig_df = elig_df.astype({\"Child_ID\": 'float'})\n",
    "\n",
    "###idea"
   ]
  },
  {
   "cell_type": "code",
   "execution_count": null,
   "id": "e1280e6f",
   "metadata": {},
   "outputs": [],
   "source": [
    "eco = pd.read_excel(\"../data/TEIS-NSS Project Data 10-2022.xlsx\",sheet_name=('ECO with Exit21-22'))\n",
    "elig = pd.read_excel(\"../data/TEIS-NSS Project Data 10-2022.xlsx\",sheet_name=('Elig Timeline Rpt 2018-2022'))"
   ]
  },
  {
   "cell_type": "code",
   "execution_count": null,
   "id": "43e1d80d",
   "metadata": {
    "scrolled": true
   },
   "outputs": [],
   "source": [
    "eco.head()"
   ]
  },
  {
   "cell_type": "code",
   "execution_count": null,
   "id": "7982a5ff",
   "metadata": {},
   "outputs": [],
   "source": [
    "elig.head()"
   ]
  },
  {
   "cell_type": "code",
   "execution_count": null,
   "id": "605c7154",
   "metadata": {},
   "outputs": [],
   "source": [
    "eco.shape"
   ]
  },
  {
   "cell_type": "code",
   "execution_count": null,
   "id": "77a6717e",
   "metadata": {},
   "outputs": [],
   "source": [
    "elig.shape"
   ]
  },
  {
   "cell_type": "code",
   "execution_count": null,
   "id": "d98f78cf",
   "metadata": {},
   "outputs": [],
   "source": [
    "eco.dtypes"
   ]
  },
  {
   "cell_type": "code",
   "execution_count": null,
   "id": "03ea858f",
   "metadata": {},
   "outputs": [],
   "source": [
    "elig.dtypes"
   ]
  },
  {
   "cell_type": "code",
   "execution_count": null,
   "id": "a9f5fea1",
   "metadata": {},
   "outputs": [],
   "source": [
    "eco.tail()"
   ]
  },
  {
   "cell_type": "code",
   "execution_count": null,
   "id": "ba464207",
   "metadata": {},
   "outputs": [],
   "source": [
    "elig.tail()"
   ]
  },
  {
   "cell_type": "code",
   "execution_count": null,
   "id": "db88678e",
   "metadata": {},
   "outputs": [],
   "source": [
    "ieg = elig['Init. Elig. Category']"
   ]
  },
  {
   "cell_type": "code",
   "execution_count": null,
   "id": "88a4b4e6",
   "metadata": {
    "scrolled": true
   },
   "outputs": [],
   "source": [
    "ieg.unique()"
   ]
  },
  {
   "cell_type": "code",
   "execution_count": null,
   "id": "f620a9af",
   "metadata": {},
   "outputs": [],
   "source": [
    "elig = elig.astype({\"Child ID\": 'float'})"
   ]
  },
  {
   "cell_type": "code",
   "execution_count": null,
   "id": "67bb1bf5",
   "metadata": {},
   "outputs": [],
   "source": [
    "elig = elig.rename(columns={'District': 'district', 'Child ID': 'child_id'})"
   ]
  },
  {
   "cell_type": "code",
   "execution_count": null,
   "id": "cc358b8d",
   "metadata": {},
   "outputs": [],
   "source": [
    "eco = eco.rename(columns={'DISTRICT': 'district', 'CHILD_ID': 'child_id'})"
   ]
  },
  {
   "cell_type": "code",
   "execution_count": null,
   "id": "4a0afe99",
   "metadata": {},
   "outputs": [],
   "source": [
    "eco_elig_combined = pd.merge(eco, elig, how=\"outer\", on=[\"district\", \"child_id\"])"
   ]
  },
  {
   "cell_type": "code",
   "execution_count": null,
   "id": "884b5c5b",
   "metadata": {
    "scrolled": false
   },
   "outputs": [],
   "source": [
    "eco_elig_combined.head(1)"
   ]
  },
  {
   "cell_type": "code",
   "execution_count": null,
   "id": "fe476173",
   "metadata": {},
   "outputs": [],
   "source": [
    "eco_elig_combined = eco_elig_combined[['district', 'child_id', '<Calc> Months in Program', 'Ent SOCIAL_SCALE', 'Ent KNOWLEDGE_SCALE', 'Ent APPROPRIATE_ACTION_SCALE', 'Exit SOCIAL_SCALE', 'Exit KNOWLEDGE_SCALE', 'Exit APPROPRIATE_ACTION_SCALE', 'Init. Elig. Category', 'OC1 Data Check']]"
   ]
  },
  {
   "cell_type": "code",
   "execution_count": null,
   "id": "aa8a9fd3",
   "metadata": {},
   "outputs": [],
   "source": [
    "eco_elig_combined.head()"
   ]
  },
  {
   "cell_type": "code",
   "execution_count": null,
   "id": "b1b8df64",
   "metadata": {},
   "outputs": [],
   "source": [
    "eco_elig_combined.info()"
   ]
  },
  {
   "cell_type": "code",
   "execution_count": null,
   "id": "2ddf7318",
   "metadata": {},
   "outputs": [],
   "source": [
    "eco_elig_combined.columns = ['district', 'child_id', 'month_count', 'ent_social', 'ent_knowledge', 'ent_app_action', 'exit_social', 'exit_knowledge', 'exit_app_action', 'elig_cat', 'oc1_data_check']\n"
   ]
  },
  {
   "cell_type": "code",
   "execution_count": null,
   "id": "04b4720c",
   "metadata": {},
   "outputs": [],
   "source": [
    "eco_elig_combined"
   ]
  },
  {
   "cell_type": "markdown",
   "id": "fd2ec8c7",
   "metadata": {},
   "source": [
    "## ideas - \n",
    "\n",
    "eco_elig_combined2 = eco_elig_combined2[eco_elig_combined2['OC1 Data Check'].notna()]\n"
   ]
  },
  {
   "cell_type": "code",
   "execution_count": null,
   "id": "44ab433d",
   "metadata": {},
   "outputs": [],
   "source": [
    "eco_elig_combined.info()"
   ]
  },
  {
   "cell_type": "code",
   "execution_count": null,
   "id": "235795d5",
   "metadata": {},
   "outputs": [],
   "source": [
    "eco_elig_combined = eco_elig_combined[eco_elig_combined['oc1_data_check'].notna()]"
   ]
  },
  {
   "cell_type": "code",
   "execution_count": null,
   "id": "b25295aa",
   "metadata": {},
   "outputs": [],
   "source": [
    "eco_elig_combined.head()"
   ]
  },
  {
   "cell_type": "code",
   "execution_count": null,
   "id": "139d7882",
   "metadata": {},
   "outputs": [],
   "source": [
    "eco_elig_combined.shape"
   ]
  },
  {
   "cell_type": "code",
   "execution_count": null,
   "id": "48f04eb9",
   "metadata": {},
   "outputs": [],
   "source": [
    "elig_cat1 = eco_elig_combined.loc[eco_elig_combined['elig_cat'] == 'Developmental Evaluation']\n",
    "elig_cat1.head()\n",
    "\n",
    "##df.loc[df['column_name'] == some_value]\n"
   ]
  },
  {
   "cell_type": "code",
   "execution_count": null,
   "id": "89b4efd0",
   "metadata": {},
   "outputs": [],
   "source": [
    "ec1socchange = elig_cat1['exit_social'] - elig_cat1['ent_social']\n",
    "ec1apacchange = elig_cat1['exit_app_action'] - elig_cat1['ent_app_action']\n",
    "ec1knowchange = elig_cat1['exit_knowledge'] - elig_cat1['ent_knowledge']"
   ]
  },
  {
   "cell_type": "code",
   "execution_count": null,
   "id": "8df9a311",
   "metadata": {
    "scrolled": true
   },
   "outputs": [],
   "source": [
    "elig_cat2 = eco_elig_combined.loc[eco_elig_combined['elig_cat'] == 'Diagnosed Condition']\n",
    "elig_cat2.head()"
   ]
  },
  {
   "cell_type": "code",
   "execution_count": null,
   "id": "7fabfbd5",
   "metadata": {},
   "outputs": [],
   "source": [
    "ec2socchange = elig_cat2['exit_social'] - elig_cat2['ent_social']\n",
    "ec2apacchange = elig_cat2['exit_app_action'] - elig_cat2['ent_app_action']\n",
    "ec2knowchange = elig_cat2['exit_knowledge'] - elig_cat2['ent_knowledge']"
   ]
  },
  {
   "cell_type": "code",
   "execution_count": null,
   "id": "3a8e979d",
   "metadata": {},
   "outputs": [],
   "source": [
    "elig_cat3 = eco_elig_combined.loc[eco_elig_combined['elig_cat'] == 'Diagnosed Condition, Developmental Evaluation']\n",
    "elig_cat3.head()"
   ]
  },
  {
   "cell_type": "code",
   "execution_count": null,
   "id": "0d0618fd",
   "metadata": {},
   "outputs": [],
   "source": [
    "ec3socchange = elig_cat3['exit_social'] - elig_cat3['ent_social']\n",
    "ec3apacchange = elig_cat3['exit_app_action'] - elig_cat3['ent_app_action']\n",
    "ec3knowchange = elig_cat3['exit_knowledge'] - elig_cat3['ent_knowledge']"
   ]
  }
 ],
 "metadata": {
  "kernelspec": {
   "display_name": "Python 3 (ipykernel)",
   "language": "python",
   "name": "python3"
  },
  "language_info": {
   "codemirror_mode": {
    "name": "ipython",
    "version": 3
   },
   "file_extension": ".py",
   "mimetype": "text/x-python",
   "name": "python",
   "nbconvert_exporter": "python",
   "pygments_lexer": "ipython3",
   "version": "3.9.12"
  }
 },
 "nbformat": 4,
 "nbformat_minor": 5
}
