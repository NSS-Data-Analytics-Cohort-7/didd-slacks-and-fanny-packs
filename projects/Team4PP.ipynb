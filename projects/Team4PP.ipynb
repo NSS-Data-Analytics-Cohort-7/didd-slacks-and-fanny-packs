{
 "cells": [
  {
   "cell_type": "code",
   "execution_count": null,
   "id": "62380fac",
   "metadata": {},
   "outputs": [],
   "source": [
    "import pandas as pd\n",
    "import numpy as np\n",
    "import matplotlib.pyplot as plt\n",
    "import seaborn as sns"
   ]
  },
  {
   "cell_type": "code",
   "execution_count": null,
   "id": "f58f78d5",
   "metadata": {},
   "outputs": [],
   "source": [
    "eco = pd.read_excel('../data/TEIS-NSS Project Data 10-2022.xlsx',sheet_name=('ECO with Exit21-22'))"
   ]
  },
  {
   "cell_type": "code",
   "execution_count": null,
   "id": "efb831b8",
   "metadata": {},
   "outputs": [],
   "source": [
    "elig = pd.read_excel('../data/TEIS-NSS Project Data 10-2022.xlsx',sheet_name=('Elig Timeline Rpt 2018-2022'))"
   ]
  },
  {
   "cell_type": "code",
   "execution_count": null,
   "id": "a8290720",
   "metadata": {},
   "outputs": [],
   "source": [
    "eco.head()"
   ]
  },
  {
   "cell_type": "code",
   "execution_count": null,
   "id": "d187aa63",
   "metadata": {},
   "outputs": [],
   "source": [
    "print(eco.dtypes)"
   ]
  },
  {
   "cell_type": "code",
   "execution_count": null,
   "id": "1072dc53",
   "metadata": {},
   "outputs": [],
   "source": [
    "print(elig.dtypes)"
   ]
  },
  {
   "cell_type": "code",
   "execution_count": null,
   "id": "1c1bc89f",
   "metadata": {},
   "outputs": [],
   "source": [
    "elig.head()"
   ]
  },
  {
   "cell_type": "code",
   "execution_count": null,
   "id": "ab6a066c",
   "metadata": {},
   "outputs": [],
   "source": [
    " elig.astype({\"Child ID\": 'float'})"
   ]
  },
  {
   "cell_type": "code",
   "execution_count": null,
   "id": "ebe31315",
   "metadata": {},
   "outputs": [],
   "source": [
    "print(elig.dtypes)"
   ]
  },
  {
   "cell_type": "code",
   "execution_count": null,
   "id": "17594711",
   "metadata": {},
   "outputs": [],
   "source": [
    "eco.rename(columns={'DISTRICT':'District'}, inplace=True)\n",
    "eco.rename(columns={'CHILD_ID':'Child ID'}, inplace=True)\n",
    "print(eco)"
   ]
  },
  {
   "cell_type": "code",
   "execution_count": null,
   "id": "ee072e41",
   "metadata": {},
   "outputs": [],
   "source": [
    "outer_merged = pd.merge(eco, elig, how=\"outer\", on=[\"District\", \"Child ID\"])\n",
    "outer_merged.head()\n",
    "outer_merged.shape\n",
    "print(outer_merged)"
   ]
  },
  {
   "cell_type": "code",
   "execution_count": null,
   "id": "0d651ce5",
   "metadata": {},
   "outputs": [],
   "source": [
    "outer_merged.rename(columns={'District':'district'}, inplace=True)\n",
    "outer_merged.rename(columns={'Child ID':'child_id'}, inplace=True)\n",
    "outer_merged.shape\n",
    "print(outer_merged)"
   ]
  },
  {
   "cell_type": "code",
   "execution_count": null,
   "id": "a6998a71",
   "metadata": {},
   "outputs": [],
   "source": [
    "outer_m = outer_merged[['child_id','district','<Calc> Months in Program','Ent SOCIAL_SCALE','Ent KNOWLEDGE_SCALE','Ent APPROPRIATE_ACTION_SCALE','Exit SOCIAL_SCALE','Exit KNOWLEDGE_SCALE','Exit APPROPRIATE_ACTION_SCALE','Init. Elig. Category','OC1 Data Check']]\n",
    "display(outer_m)"
   ]
  },
  {
   "cell_type": "code",
   "execution_count": null,
   "id": "867d37e0",
   "metadata": {},
   "outputs": [],
   "source": [
    "outer_m.columns = ['child_id', 'district', 'month_count', 'ent_social', 'ent_knowledge', 'ent_app_action', 'exit_social', 'exit_knowledge', 'exit_app_action','elig_cat','OC1 Data Check' ]\n",
    "display(outer_m)"
   ]
  },
  {
   "cell_type": "code",
   "execution_count": null,
   "id": "0cca9060",
   "metadata": {},
   "outputs": [],
   "source": [
    "outer_m.head(20)"
   ]
  },
  {
   "cell_type": "code",
   "execution_count": null,
   "id": "faddae49",
   "metadata": {},
   "outputs": [],
   "source": [
    "outer_m2 = outer_m.dropna(how = 'any', axis=0)\n",
    "display(outer_m2)"
   ]
  },
  {
   "cell_type": "code",
   "execution_count": null,
   "id": "aada3a59",
   "metadata": {},
   "outputs": [],
   "source": [
    "outer_m2.info()"
   ]
  },
  {
   "cell_type": "code",
   "execution_count": null,
   "id": "146059a4",
   "metadata": {},
   "outputs": [],
   "source": [
    "outer_m2['social_change'] = outer_m2['exit_social'] - outer_m2['ent_social']\n",
    "outer_m2['knowledge_change'] = outer_m2['exit_knowledge'] - outer_m2['ent_knowledge']\n",
    "outer_m2['app_action_change'] = outer_m2['exit_app_action'] - outer_m2['ent_app_action']\n"
   ]
  },
  {
   "cell_type": "code",
   "execution_count": null,
   "id": "1f9b4238",
   "metadata": {},
   "outputs": [],
   "source": [
    "print(outer_m2[['ent_social','exit_social', 'social_change']].head(20))"
   ]
  },
  {
   "cell_type": "code",
   "execution_count": null,
   "id": "a254070b",
   "metadata": {},
   "outputs": [],
   "source": [
    "display(outer_m2)"
   ]
  },
  {
   "cell_type": "code",
   "execution_count": null,
   "id": "841d05fb",
   "metadata": {},
   "outputs": [],
   "source": [
    "outer_m2_ec = outer_m2.groupby(['elig_cat']).count()\n",
    "display(outer_m2_ec)"
   ]
  },
  {
   "cell_type": "code",
   "execution_count": null,
   "id": "9810a186",
   "metadata": {},
   "outputs": [],
   "source": [
    "\n",
    " \n",
    "import seaborn as sns\n",
    "import matplotlib.pyplot as plt\n",
    " \n",
    "df = sns.load_dataset('tips')\n",
    "\n",
    "sns.countplot(x ='child_id', data = outer_m2)\n",
    " \n",
    "\n",
    "plt.show()\n"
   ]
  },
  {
   "cell_type": "code",
   "execution_count": null,
   "id": "c620bd86",
   "metadata": {},
   "outputs": [],
   "source": []
  }
 ],
 "metadata": {
  "kernelspec": {
   "display_name": "Python 3 (ipykernel)",
   "language": "python",
   "name": "python3"
  },
  "language_info": {
   "codemirror_mode": {
    "name": "ipython",
    "version": 3
   },
   "file_extension": ".py",
   "mimetype": "text/x-python",
   "name": "python",
   "nbconvert_exporter": "python",
   "pygments_lexer": "ipython3",
   "version": "3.9.7"
  }
 },
 "nbformat": 4,
 "nbformat_minor": 5
}
