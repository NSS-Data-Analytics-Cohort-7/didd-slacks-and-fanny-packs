{
 "cells": [
  {
   "cell_type": "markdown",
   "id": "f0e5c6c8",
   "metadata": {},
   "source": [
    "# Difference in OC scores based off of eligibility category"
   ]
  },
  {
   "cell_type": "code",
   "execution_count": null,
   "id": "af625854",
   "metadata": {},
   "outputs": [],
   "source": [
    "import pandas as pd\n",
    "import numpy as np\n",
    "import matplotlib.pyplot as plt\n",
    "import seaborn as sns\n",
    "%matplotlib inline"
   ]
  },
  {
   "cell_type": "code",
   "execution_count": null,
   "id": "f8065734",
   "metadata": {
    "scrolled": true
   },
   "outputs": [],
   "source": [
    "eco = pd.read_excel(\"../data/TEIS-NSS Project Data 10-2022.xlsx\",sheet_name=('ECO with Exit21-22'))\n",
    "elig = pd.read_excel(\"../data/TEIS-NSS Project Data 10-2022.xlsx\",sheet_name=('Elig Timeline Rpt 2018-2022'))"
   ]
  },
  {
   "cell_type": "markdown",
   "id": "520c35c4",
   "metadata": {},
   "source": [
    "### Eco clean"
   ]
  },
  {
   "cell_type": "code",
   "execution_count": null,
   "id": "8ac004c7",
   "metadata": {
    "scrolled": true
   },
   "outputs": [],
   "source": [
    "eco.info()"
   ]
  },
  {
   "cell_type": "code",
   "execution_count": null,
   "id": "d5c31adc",
   "metadata": {
    "scrolled": true
   },
   "outputs": [],
   "source": [
    "eco1 = eco[['CHILD_ID', 'OC1 - a','OC1 - b', 'OC1 - c', 'OC1 - d', 'OC1 - e',,\\\n",
    "        'OC3 - a','OC3 - b', 'OC3 - c', 'OC3 - d', 'OC3 - e']]\n",
    "eco1.info()"
   ]
  },
  {
   "cell_type": "code",
   "execution_count": null,
   "id": "8f6f7884",
   "metadata": {},
   "outputs": [],
   "source": [
    "eco1.plot.bar()"
   ]
  }
 ],
 "metadata": {
  "kernelspec": {
   "display_name": "Python 3 (ipykernel)",
   "language": "python",
   "name": "python3"
  },
  "language_info": {
   "codemirror_mode": {
    "name": "ipython",
    "version": 3
   },
   "file_extension": ".py",
   "mimetype": "text/x-python",
   "name": "python",
   "nbconvert_exporter": "python",
   "pygments_lexer": "ipython3",
   "version": "3.9.7"
  }
 },
 "nbformat": 4,
 "nbformat_minor": 5
}
