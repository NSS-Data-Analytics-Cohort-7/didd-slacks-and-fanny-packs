{
 "cells": [
  {
   "cell_type": "markdown",
   "id": "cd6d9155",
   "metadata": {},
   "source": [
    "# Difference in OC scores based off of eligibility category"
   ]
  },
  {
   "cell_type": "code",
   "execution_count": 2,
   "id": "26105762",
   "metadata": {},
   "outputs": [],
   "source": [
    "import pandas as pd\n",
    "import numpy as np\n",
    "import matplotlib.pyplot as plt\n",
    "import seaborn as sns\n",
    "%matplotlib inline"
   ]
  },
  {
   "cell_type": "code",
   "execution_count": 3,
   "id": "cf8044de",
   "metadata": {
    "scrolled": true
   },
   "outputs": [],
   "source": [
    "eco = pd.read_excel(\"../data/TEIS-NSS Project Data 10-2022.xlsx\",sheet_name=('ECO with Exit21-22'))\n",
    "elig = pd.read_excel(\"../data/TEIS-NSS Project Data 10-2022.xlsx\",sheet_name=('Elig Timeline Rpt 2018-2022'))"
   ]
  },
  {
   "cell_type": "markdown",
   "id": "8a819b00",
   "metadata": {},
   "source": [
    "### Eco clean"
   ]
  },
  {
   "cell_type": "code",
   "execution_count": 4,
   "id": "9212f39e",
   "metadata": {
    "scrolled": true
   },
   "outputs": [
    {
     "name": "stdout",
     "output_type": "stream",
     "text": [
      "<class 'pandas.core.frame.DataFrame'>\n",
      "RangeIndex: 8636 entries, 0 to 8635\n",
      "Data columns (total 60 columns):\n",
      " #   Column                                Non-Null Count  Dtype         \n",
      "---  ------                                --------------  -----         \n",
      " 0   DISTRICT                              8633 non-null   object        \n",
      " 1   CHILD_ID                              8632 non-null   float64       \n",
      " 2   ECO_Entry_DATE                        5721 non-null   datetime64[ns]\n",
      " 3   Ent SOCIAL_SCALE                      5721 non-null   float64       \n",
      " 4   Ent KNOWLEDGE_SCALE                   5721 non-null   float64       \n",
      " 5   Ent APPROPRIATE_ACTION_SCALE          5721 non-null   float64       \n",
      " 6   ECO_Exit_DATE                         5721 non-null   datetime64[ns]\n",
      " 7   Exit SOCIAL_SCALE                     5721 non-null   float64       \n",
      " 8   Exit KNOWLEDGE_SCALE                  5721 non-null   float64       \n",
      " 9   Exit APPROPRIATE_ACTION_SCALE         5721 non-null   float64       \n",
      " 10  ExitIS_SOCIAL_PROGRESS                5721 non-null   object        \n",
      " 11  ExitIS_KNOWLEDGE_PROGRESS             5721 non-null   object        \n",
      " 12  ExitIS_APPROPRIATE_ACTION_PROGRESS    5721 non-null   object        \n",
      " 13  Initial IFSP Date                     8632 non-null   datetime64[ns]\n",
      " 14  Exit Reason                           8632 non-null   object        \n",
      " 15  Exit Date                             8632 non-null   datetime64[ns]\n",
      " 16  <Lookup> Expected Rating              8632 non-null   object        \n",
      " 17  <Calc> Months in Program              8632 non-null   float64       \n",
      " 18  <Calc> Entrance Age (months)          8632 non-null   float64       \n",
      " 19  <Calc> Day count                      5721 non-null   float64       \n",
      " 20  <Calc> Month count                    5721 non-null   float64       \n",
      " 21  <Calc> Missing Entrance Date          2911 non-null   float64       \n",
      " 22  <Calc> Missing Exit Dates             2911 non-null   float64       \n",
      " 23  <Calc> Missing Both Ent & Exit Dates  2911 non-null   float64       \n",
      " 24  <Calc> Record Count                   8632 non-null   float64       \n",
      " 25  <Calc> Day count 182 days +           6806 non-null   float64       \n",
      " 26  <Calc> Exit Day cnt < 182 days        2501 non-null   float64       \n",
      " 27  OC1 Missing Exit Rating               2911 non-null   float64       \n",
      " 28  OC2 Missing Exit Rating               2911 non-null   float64       \n",
      " 29  OC3 Missing Exit Rating               2911 non-null   float64       \n",
      " 30  OC1 Not Expected                      481 non-null    float64       \n",
      " 31  OC2 Not Expected                      481 non-null    float64       \n",
      " 32  OC3 Not Expected                      481 non-null    float64       \n",
      " 33  <Calc> Day count less than 182        2501 non-null   float64       \n",
      " 34  OC1 Useable Data                      5595 non-null   float64       \n",
      " 35  OC2 Useable Data                      5595 non-null   float64       \n",
      " 36  OC3 Useable Data                      5595 non-null   float64       \n",
      " 37  Usable Data on at least one Outcome   5595 non-null   float64       \n",
      " 38  Usable Data on All 3 Outcomes         5595 non-null   float64       \n",
      " 39  OC1 - a                               20 non-null     float64       \n",
      " 40  OC1 - b                               1441 non-null   float64       \n",
      " 41  OC1 - c                               1414 non-null   float64       \n",
      " 42  OC1 - d                               1842 non-null   float64       \n",
      " 43  OC1 - e                               878 non-null    float64       \n",
      " 44  OC1 Data Check                        8632 non-null   float64       \n",
      " 45  OC2 - a                               29 non-null     float64       \n",
      " 46  OC2 - b                               2633 non-null   float64       \n",
      " 47  OC2 - c                               1016 non-null   float64       \n",
      " 48  OC2 - d                               1362 non-null   float64       \n",
      " 49  OC2 - e                               555 non-null    float64       \n",
      " 50  OC2 Data Check                        8632 non-null   float64       \n",
      " 51  OC3 - a                               14 non-null     float64       \n",
      " 52  OC3 - b                               1430 non-null   float64       \n",
      " 53  OC3 - c                               816 non-null    float64       \n",
      " 54  OC3 - d                               1760 non-null   float64       \n",
      " 55  OC3 - e                               1575 non-null   float64       \n",
      " 56  OC3 Data Check                        8632 non-null   float64       \n",
      " 57  Days btw Initial and Exit             8632 non-null   float64       \n",
      " 58  Days btw I-IFSP to Exit ECO           8632 non-null   float64       \n",
      " 59  Days btw I-IFSP to entry ECO          8632 non-null   float64       \n",
      "dtypes: datetime64[ns](4), float64(50), object(6)\n",
      "memory usage: 4.0+ MB\n"
     ]
    }
   ],
   "source": [
    "eco.info()"
   ]
  },
  {
   "cell_type": "code",
   "execution_count": 10,
   "id": "cfe56a76",
   "metadata": {
    "scrolled": false
   },
   "outputs": [
    {
     "name": "stdout",
     "output_type": "stream",
     "text": [
      "<class 'pandas.core.frame.DataFrame'>\n",
      "RangeIndex: 8636 entries, 0 to 8635\n",
      "Data columns (total 16 columns):\n",
      " #   Column    Non-Null Count  Dtype  \n",
      "---  ------    --------------  -----  \n",
      " 0   CHILD_ID  8632 non-null   float64\n",
      " 1   OC1 - a   20 non-null     float64\n",
      " 2   OC1 - b   1441 non-null   float64\n",
      " 3   OC1 - c   1414 non-null   float64\n",
      " 4   OC1 - d   1842 non-null   float64\n",
      " 5   OC1 - e   878 non-null    float64\n",
      " 6   OC2 - a   29 non-null     float64\n",
      " 7   OC2 - b   2633 non-null   float64\n",
      " 8   OC2 - c   1016 non-null   float64\n",
      " 9   OC2 - d   1362 non-null   float64\n",
      " 10  OC2 - e   555 non-null    float64\n",
      " 11  OC3 - a   14 non-null     float64\n",
      " 12  OC3 - b   1430 non-null   float64\n",
      " 13  OC3 - c   816 non-null    float64\n",
      " 14  OC3 - d   1760 non-null   float64\n",
      " 15  OC3 - e   1575 non-null   float64\n",
      "dtypes: float64(16)\n",
      "memory usage: 1.1 MB\n"
     ]
    }
   ],
   "source": [
    "eco1 = eco[['CHILD_ID', 'OC1 - a','OC1 - b', 'OC1 - c', 'OC1 - d', 'OC1 - e',,\\\n",
    "        'OC3 - a','OC3 - b', 'OC3 - c', 'OC3 - d', 'OC3 - e']]\n",
    "eco1.info()"
   ]
  },
  {
   "cell_type": "code",
   "execution_count": null,
   "id": "6c13caed",
   "metadata": {},
   "outputs": [
    {
     "ename": "KeyboardInterrupt",
     "evalue": "",
     "output_type": "error",
     "traceback": [
      "\u001b[1;31m---------------------------------------------------------------------------\u001b[0m",
      "\u001b[1;31mKeyboardInterrupt\u001b[0m                         Traceback (most recent call last)",
      "Cell \u001b[1;32mIn [12], line 1\u001b[0m\n\u001b[1;32m----> 1\u001b[0m \u001b[43meco1\u001b[49m\u001b[38;5;241;43m.\u001b[39;49m\u001b[43mplot\u001b[49m\u001b[38;5;241;43m.\u001b[39;49m\u001b[43mbar\u001b[49m\u001b[43m(\u001b[49m\u001b[43m)\u001b[49m\n",
      "File \u001b[1;32m~\\anaconda3\\lib\\site-packages\\pandas\\plotting\\_core.py:1130\u001b[0m, in \u001b[0;36mPlotAccessor.bar\u001b[1;34m(self, x, y, **kwargs)\u001b[0m\n\u001b[0;32m   1042\u001b[0m \u001b[38;5;129m@Appender\u001b[39m(\n\u001b[0;32m   1043\u001b[0m     \u001b[38;5;124;03m\"\"\"\u001b[39;00m\n\u001b[0;32m   1044\u001b[0m \u001b[38;5;124;03m    See Also\u001b[39;00m\n\u001b[1;32m   (...)\u001b[0m\n\u001b[0;32m   1119\u001b[0m \u001b[38;5;129m@Appender\u001b[39m(_bar_or_line_doc)\n\u001b[0;32m   1120\u001b[0m \u001b[38;5;28;01mdef\u001b[39;00m \u001b[38;5;21mbar\u001b[39m(\u001b[38;5;28mself\u001b[39m, x\u001b[38;5;241m=\u001b[39m\u001b[38;5;28;01mNone\u001b[39;00m, y\u001b[38;5;241m=\u001b[39m\u001b[38;5;28;01mNone\u001b[39;00m, \u001b[38;5;241m*\u001b[39m\u001b[38;5;241m*\u001b[39mkwargs):\n\u001b[0;32m   1121\u001b[0m     \u001b[38;5;124;03m\"\"\"\u001b[39;00m\n\u001b[0;32m   1122\u001b[0m \u001b[38;5;124;03m    Vertical bar plot.\u001b[39;00m\n\u001b[0;32m   1123\u001b[0m \n\u001b[1;32m   (...)\u001b[0m\n\u001b[0;32m   1128\u001b[0m \u001b[38;5;124;03m    other axis represents a measured value.\u001b[39;00m\n\u001b[0;32m   1129\u001b[0m \u001b[38;5;124;03m    \"\"\"\u001b[39;00m\n\u001b[1;32m-> 1130\u001b[0m     \u001b[38;5;28;01mreturn\u001b[39;00m \u001b[38;5;28mself\u001b[39m(kind\u001b[38;5;241m=\u001b[39m\u001b[38;5;124m\"\u001b[39m\u001b[38;5;124mbar\u001b[39m\u001b[38;5;124m\"\u001b[39m, x\u001b[38;5;241m=\u001b[39mx, y\u001b[38;5;241m=\u001b[39my, \u001b[38;5;241m*\u001b[39m\u001b[38;5;241m*\u001b[39mkwargs)\n",
      "File \u001b[1;32m~\\anaconda3\\lib\\site-packages\\pandas\\plotting\\_core.py:972\u001b[0m, in \u001b[0;36mPlotAccessor.__call__\u001b[1;34m(self, *args, **kwargs)\u001b[0m\n\u001b[0;32m    969\u001b[0m             label_name \u001b[38;5;241m=\u001b[39m label_kw \u001b[38;5;129;01mor\u001b[39;00m data\u001b[38;5;241m.\u001b[39mcolumns\n\u001b[0;32m    970\u001b[0m             data\u001b[38;5;241m.\u001b[39mcolumns \u001b[38;5;241m=\u001b[39m label_name\n\u001b[1;32m--> 972\u001b[0m \u001b[38;5;28;01mreturn\u001b[39;00m plot_backend\u001b[38;5;241m.\u001b[39mplot(data, kind\u001b[38;5;241m=\u001b[39mkind, \u001b[38;5;241m*\u001b[39m\u001b[38;5;241m*\u001b[39mkwargs)\n",
      "File \u001b[1;32m~\\anaconda3\\lib\\site-packages\\pandas\\plotting\\_matplotlib\\__init__.py:71\u001b[0m, in \u001b[0;36mplot\u001b[1;34m(data, kind, **kwargs)\u001b[0m\n\u001b[0;32m     69\u001b[0m         kwargs[\u001b[38;5;124m\"\u001b[39m\u001b[38;5;124max\u001b[39m\u001b[38;5;124m\"\u001b[39m] \u001b[38;5;241m=\u001b[39m \u001b[38;5;28mgetattr\u001b[39m(ax, \u001b[38;5;124m\"\u001b[39m\u001b[38;5;124mleft_ax\u001b[39m\u001b[38;5;124m\"\u001b[39m, ax)\n\u001b[0;32m     70\u001b[0m plot_obj \u001b[38;5;241m=\u001b[39m PLOT_CLASSES[kind](data, \u001b[38;5;241m*\u001b[39m\u001b[38;5;241m*\u001b[39mkwargs)\n\u001b[1;32m---> 71\u001b[0m \u001b[43mplot_obj\u001b[49m\u001b[38;5;241;43m.\u001b[39;49m\u001b[43mgenerate\u001b[49m\u001b[43m(\u001b[49m\u001b[43m)\u001b[49m\n\u001b[0;32m     72\u001b[0m plot_obj\u001b[38;5;241m.\u001b[39mdraw()\n\u001b[0;32m     73\u001b[0m \u001b[38;5;28;01mreturn\u001b[39;00m plot_obj\u001b[38;5;241m.\u001b[39mresult\n",
      "File \u001b[1;32m~\\anaconda3\\lib\\site-packages\\pandas\\plotting\\_matplotlib\\core.py:288\u001b[0m, in \u001b[0;36mMPLPlot.generate\u001b[1;34m(self)\u001b[0m\n\u001b[0;32m    286\u001b[0m \u001b[38;5;28mself\u001b[39m\u001b[38;5;241m.\u001b[39m_compute_plot_data()\n\u001b[0;32m    287\u001b[0m \u001b[38;5;28mself\u001b[39m\u001b[38;5;241m.\u001b[39m_setup_subplots()\n\u001b[1;32m--> 288\u001b[0m \u001b[38;5;28;43mself\u001b[39;49m\u001b[38;5;241;43m.\u001b[39;49m\u001b[43m_make_plot\u001b[49m\u001b[43m(\u001b[49m\u001b[43m)\u001b[49m\n\u001b[0;32m    289\u001b[0m \u001b[38;5;28mself\u001b[39m\u001b[38;5;241m.\u001b[39m_add_table()\n\u001b[0;32m    290\u001b[0m \u001b[38;5;28mself\u001b[39m\u001b[38;5;241m.\u001b[39m_make_legend()\n",
      "File \u001b[1;32m~\\anaconda3\\lib\\site-packages\\pandas\\plotting\\_matplotlib\\core.py:1509\u001b[0m, in \u001b[0;36mBarPlot._make_plot\u001b[1;34m(self)\u001b[0m\n\u001b[0;32m   1507\u001b[0m \u001b[38;5;28;01melse\u001b[39;00m:\n\u001b[0;32m   1508\u001b[0m     w \u001b[38;5;241m=\u001b[39m \u001b[38;5;28mself\u001b[39m\u001b[38;5;241m.\u001b[39mbar_width \u001b[38;5;241m/\u001b[39m K\n\u001b[1;32m-> 1509\u001b[0m     rect \u001b[38;5;241m=\u001b[39m \u001b[38;5;28mself\u001b[39m\u001b[38;5;241m.\u001b[39m_plot(\n\u001b[0;32m   1510\u001b[0m         ax,\n\u001b[0;32m   1511\u001b[0m         \u001b[38;5;28mself\u001b[39m\u001b[38;5;241m.\u001b[39max_pos \u001b[38;5;241m+\u001b[39m (i \u001b[38;5;241m+\u001b[39m \u001b[38;5;241m0.5\u001b[39m) \u001b[38;5;241m*\u001b[39m w,\n\u001b[0;32m   1512\u001b[0m         y,\n\u001b[0;32m   1513\u001b[0m         w,\n\u001b[0;32m   1514\u001b[0m         start\u001b[38;5;241m=\u001b[39mstart,\n\u001b[0;32m   1515\u001b[0m         label\u001b[38;5;241m=\u001b[39mlabel,\n\u001b[0;32m   1516\u001b[0m         log\u001b[38;5;241m=\u001b[39m\u001b[38;5;28mself\u001b[39m\u001b[38;5;241m.\u001b[39mlog,\n\u001b[0;32m   1517\u001b[0m         \u001b[38;5;241m*\u001b[39m\u001b[38;5;241m*\u001b[39mkwds,\n\u001b[0;32m   1518\u001b[0m     )\n\u001b[0;32m   1519\u001b[0m \u001b[38;5;28mself\u001b[39m\u001b[38;5;241m.\u001b[39m_append_legend_handles_labels(rect, label)\n",
      "File \u001b[1;32m~\\anaconda3\\lib\\site-packages\\pandas\\plotting\\_matplotlib\\core.py:1439\u001b[0m, in \u001b[0;36mBarPlot._plot\u001b[1;34m(cls, ax, x, y, w, start, log, **kwds)\u001b[0m\n\u001b[0;32m   1437\u001b[0m \u001b[38;5;129m@classmethod\u001b[39m\n\u001b[0;32m   1438\u001b[0m \u001b[38;5;28;01mdef\u001b[39;00m \u001b[38;5;21m_plot\u001b[39m(\u001b[38;5;28mcls\u001b[39m, ax: Axes, x, y, w, start\u001b[38;5;241m=\u001b[39m\u001b[38;5;241m0\u001b[39m, log\u001b[38;5;241m=\u001b[39m\u001b[38;5;28;01mFalse\u001b[39;00m, \u001b[38;5;241m*\u001b[39m\u001b[38;5;241m*\u001b[39mkwds):\n\u001b[1;32m-> 1439\u001b[0m     \u001b[38;5;28;01mreturn\u001b[39;00m ax\u001b[38;5;241m.\u001b[39mbar(x, y, w, bottom\u001b[38;5;241m=\u001b[39mstart, log\u001b[38;5;241m=\u001b[39mlog, \u001b[38;5;241m*\u001b[39m\u001b[38;5;241m*\u001b[39mkwds)\n",
      "File \u001b[1;32m~\\anaconda3\\lib\\site-packages\\matplotlib\\__init__.py:1361\u001b[0m, in \u001b[0;36m_preprocess_data.<locals>.inner\u001b[1;34m(ax, data, *args, **kwargs)\u001b[0m\n\u001b[0;32m   1358\u001b[0m \u001b[38;5;129m@functools\u001b[39m\u001b[38;5;241m.\u001b[39mwraps(func)\n\u001b[0;32m   1359\u001b[0m \u001b[38;5;28;01mdef\u001b[39;00m \u001b[38;5;21minner\u001b[39m(ax, \u001b[38;5;241m*\u001b[39margs, data\u001b[38;5;241m=\u001b[39m\u001b[38;5;28;01mNone\u001b[39;00m, \u001b[38;5;241m*\u001b[39m\u001b[38;5;241m*\u001b[39mkwargs):\n\u001b[0;32m   1360\u001b[0m     \u001b[38;5;28;01mif\u001b[39;00m data \u001b[38;5;129;01mis\u001b[39;00m \u001b[38;5;28;01mNone\u001b[39;00m:\n\u001b[1;32m-> 1361\u001b[0m         \u001b[38;5;28;01mreturn\u001b[39;00m func(ax, \u001b[38;5;241m*\u001b[39m\u001b[38;5;28mmap\u001b[39m(sanitize_sequence, args), \u001b[38;5;241m*\u001b[39m\u001b[38;5;241m*\u001b[39mkwargs)\n\u001b[0;32m   1363\u001b[0m     bound \u001b[38;5;241m=\u001b[39m new_sig\u001b[38;5;241m.\u001b[39mbind(ax, \u001b[38;5;241m*\u001b[39margs, \u001b[38;5;241m*\u001b[39m\u001b[38;5;241m*\u001b[39mkwargs)\n\u001b[0;32m   1364\u001b[0m     auto_label \u001b[38;5;241m=\u001b[39m (bound\u001b[38;5;241m.\u001b[39marguments\u001b[38;5;241m.\u001b[39mget(label_namer)\n\u001b[0;32m   1365\u001b[0m                   \u001b[38;5;129;01mor\u001b[39;00m bound\u001b[38;5;241m.\u001b[39mkwargs\u001b[38;5;241m.\u001b[39mget(label_namer))\n",
      "File \u001b[1;32m~\\anaconda3\\lib\\site-packages\\matplotlib\\axes\\_axes.py:2371\u001b[0m, in \u001b[0;36mAxes.bar\u001b[1;34m(self, x, height, width, bottom, align, **kwargs)\u001b[0m\n\u001b[0;32m   2369\u001b[0m     \u001b[38;5;28;01melif\u001b[39;00m orientation \u001b[38;5;241m==\u001b[39m \u001b[38;5;124m'\u001b[39m\u001b[38;5;124mhorizontal\u001b[39m\u001b[38;5;124m'\u001b[39m:\n\u001b[0;32m   2370\u001b[0m         r\u001b[38;5;241m.\u001b[39msticky_edges\u001b[38;5;241m.\u001b[39mx\u001b[38;5;241m.\u001b[39mappend(l)\n\u001b[1;32m-> 2371\u001b[0m     \u001b[38;5;28;43mself\u001b[39;49m\u001b[38;5;241;43m.\u001b[39;49m\u001b[43madd_patch\u001b[49m\u001b[43m(\u001b[49m\u001b[43mr\u001b[49m\u001b[43m)\u001b[49m\n\u001b[0;32m   2372\u001b[0m     patches\u001b[38;5;241m.\u001b[39mappend(r)\n\u001b[0;32m   2374\u001b[0m \u001b[38;5;28;01mif\u001b[39;00m xerr \u001b[38;5;129;01mis\u001b[39;00m \u001b[38;5;129;01mnot\u001b[39;00m \u001b[38;5;28;01mNone\u001b[39;00m \u001b[38;5;129;01mor\u001b[39;00m yerr \u001b[38;5;129;01mis\u001b[39;00m \u001b[38;5;129;01mnot\u001b[39;00m \u001b[38;5;28;01mNone\u001b[39;00m:\n",
      "File \u001b[1;32m~\\anaconda3\\lib\\site-packages\\matplotlib\\axes\\_base.py:2170\u001b[0m, in \u001b[0;36m_AxesBase.add_patch\u001b[1;34m(self, p)\u001b[0m\n\u001b[0;32m   2168\u001b[0m \u001b[38;5;28;01mif\u001b[39;00m p\u001b[38;5;241m.\u001b[39mget_clip_path() \u001b[38;5;129;01mis\u001b[39;00m \u001b[38;5;28;01mNone\u001b[39;00m:\n\u001b[0;32m   2169\u001b[0m     p\u001b[38;5;241m.\u001b[39mset_clip_path(\u001b[38;5;28mself\u001b[39m\u001b[38;5;241m.\u001b[39mpatch)\n\u001b[1;32m-> 2170\u001b[0m \u001b[38;5;28;43mself\u001b[39;49m\u001b[38;5;241;43m.\u001b[39;49m\u001b[43m_update_patch_limits\u001b[49m\u001b[43m(\u001b[49m\u001b[43mp\u001b[49m\u001b[43m)\u001b[49m\n\u001b[0;32m   2171\u001b[0m \u001b[38;5;28mself\u001b[39m\u001b[38;5;241m.\u001b[39mpatches\u001b[38;5;241m.\u001b[39mappend(p)\n\u001b[0;32m   2172\u001b[0m p\u001b[38;5;241m.\u001b[39m_remove_method \u001b[38;5;241m=\u001b[39m \u001b[38;5;28mself\u001b[39m\u001b[38;5;241m.\u001b[39mpatches\u001b[38;5;241m.\u001b[39mremove\n",
      "File \u001b[1;32m~\\anaconda3\\lib\\site-packages\\matplotlib\\axes\\_base.py:2198\u001b[0m, in \u001b[0;36m_AxesBase._update_patch_limits\u001b[1;34m(self, patch)\u001b[0m\n\u001b[0;32m   2194\u001b[0m     patch_to_data \u001b[38;5;241m=\u001b[39m (patch\u001b[38;5;241m.\u001b[39mget_data_transform() \u001b[38;5;241m-\u001b[39m\n\u001b[0;32m   2195\u001b[0m                      \u001b[38;5;28mself\u001b[39m\u001b[38;5;241m.\u001b[39mtransData)\n\u001b[0;32m   2196\u001b[0m     xys \u001b[38;5;241m=\u001b[39m patch_to_data\u001b[38;5;241m.\u001b[39mtransform(xys)\n\u001b[1;32m-> 2198\u001b[0m updatex, updatey \u001b[38;5;241m=\u001b[39m \u001b[43mpatch\u001b[49m\u001b[38;5;241;43m.\u001b[39;49m\u001b[43mget_transform\u001b[49m\u001b[43m(\u001b[49m\u001b[43m)\u001b[49m\u001b[38;5;241;43m.\u001b[39;49m\u001b[43m\\\u001b[49m\n\u001b[0;32m   2199\u001b[0m \u001b[43m    \u001b[49m\u001b[43mcontains_branch_seperately\u001b[49m\u001b[43m(\u001b[49m\u001b[38;5;28;43mself\u001b[39;49m\u001b[38;5;241;43m.\u001b[39;49m\u001b[43mtransData\u001b[49m\u001b[43m)\u001b[49m\n\u001b[0;32m   2200\u001b[0m \u001b[38;5;28mself\u001b[39m\u001b[38;5;241m.\u001b[39mupdate_datalim(xys, updatex\u001b[38;5;241m=\u001b[39mupdatex,\n\u001b[0;32m   2201\u001b[0m                     updatey\u001b[38;5;241m=\u001b[39mupdatey)\n",
      "File \u001b[1;32m~\\anaconda3\\lib\\site-packages\\matplotlib\\transforms.py:1391\u001b[0m, in \u001b[0;36mTransform.contains_branch_seperately\u001b[1;34m(self, other_transform)\u001b[0m\n\u001b[0;32m   1387\u001b[0m     \u001b[38;5;28;01mraise\u001b[39;00m \u001b[38;5;167;01mValueError\u001b[39;00m(\u001b[38;5;124m'\u001b[39m\u001b[38;5;124mcontains_branch_seperately only supports \u001b[39m\u001b[38;5;124m'\u001b[39m\n\u001b[0;32m   1388\u001b[0m                      \u001b[38;5;124m'\u001b[39m\u001b[38;5;124mtransforms with 2 output dimensions\u001b[39m\u001b[38;5;124m'\u001b[39m)\n\u001b[0;32m   1389\u001b[0m \u001b[38;5;66;03m# for a non-blended transform each separate dimension is the same, so\u001b[39;00m\n\u001b[0;32m   1390\u001b[0m \u001b[38;5;66;03m# just return the appropriate shape.\u001b[39;00m\n\u001b[1;32m-> 1391\u001b[0m \u001b[38;5;28;01mreturn\u001b[39;00m [\u001b[38;5;28;43mself\u001b[39;49m\u001b[38;5;241;43m.\u001b[39;49m\u001b[43mcontains_branch\u001b[49m\u001b[43m(\u001b[49m\u001b[43mother_transform\u001b[49m\u001b[43m)\u001b[49m] \u001b[38;5;241m*\u001b[39m \u001b[38;5;241m2\u001b[39m\n",
      "File \u001b[1;32m~\\anaconda3\\lib\\site-packages\\matplotlib\\transforms.py:1370\u001b[0m, in \u001b[0;36mTransform.contains_branch\u001b[1;34m(self, other)\u001b[0m\n\u001b[0;32m   1367\u001b[0m     \u001b[38;5;28;01mreturn\u001b[39;00m \u001b[38;5;28;01mFalse\u001b[39;00m\n\u001b[0;32m   1369\u001b[0m \u001b[38;5;66;03m# check that a subtree is equal to other (starting from self)\u001b[39;00m\n\u001b[1;32m-> 1370\u001b[0m \u001b[38;5;28;01mfor\u001b[39;00m _, sub_tree \u001b[38;5;129;01min\u001b[39;00m \u001b[38;5;28mself\u001b[39m\u001b[38;5;241m.\u001b[39m_iter_break_from_left_to_right():\n\u001b[0;32m   1371\u001b[0m     \u001b[38;5;28;01mif\u001b[39;00m sub_tree \u001b[38;5;241m==\u001b[39m other:\n\u001b[0;32m   1372\u001b[0m         \u001b[38;5;28;01mreturn\u001b[39;00m \u001b[38;5;28;01mTrue\u001b[39;00m\n",
      "File \u001b[1;32m~\\anaconda3\\lib\\site-packages\\matplotlib\\transforms.py:2363\u001b[0m, in \u001b[0;36mCompositeGenericTransform._iter_break_from_left_to_right\u001b[1;34m(self)\u001b[0m\n\u001b[0;32m   2362\u001b[0m \u001b[38;5;28;01mdef\u001b[39;00m \u001b[38;5;21m_iter_break_from_left_to_right\u001b[39m(\u001b[38;5;28mself\u001b[39m):\n\u001b[1;32m-> 2363\u001b[0m     \u001b[38;5;28;01mfor\u001b[39;00m left, right \u001b[38;5;129;01min\u001b[39;00m \u001b[38;5;28mself\u001b[39m\u001b[38;5;241m.\u001b[39m_a\u001b[38;5;241m.\u001b[39m_iter_break_from_left_to_right():\n\u001b[0;32m   2364\u001b[0m         \u001b[38;5;28;01myield\u001b[39;00m left, right \u001b[38;5;241m+\u001b[39m \u001b[38;5;28mself\u001b[39m\u001b[38;5;241m.\u001b[39m_b\n\u001b[0;32m   2365\u001b[0m     \u001b[38;5;28;01mfor\u001b[39;00m left, right \u001b[38;5;129;01min\u001b[39;00m \u001b[38;5;28mself\u001b[39m\u001b[38;5;241m.\u001b[39m_b\u001b[38;5;241m.\u001b[39m_iter_break_from_left_to_right():\n",
      "File \u001b[1;32m~\\anaconda3\\lib\\site-packages\\matplotlib\\transforms.py:2362\u001b[0m, in \u001b[0;36mCompositeGenericTransform._iter_break_from_left_to_right\u001b[1;34m(self)\u001b[0m\n\u001b[0;32m   2359\u001b[0m     \u001b[38;5;28;01melse\u001b[39;00m:\n\u001b[0;32m   2360\u001b[0m         \u001b[38;5;28;01mreturn\u001b[39;00m \u001b[38;5;28;01mFalse\u001b[39;00m\n\u001b[1;32m-> 2362\u001b[0m \u001b[38;5;28;01mdef\u001b[39;00m \u001b[38;5;21m_iter_break_from_left_to_right\u001b[39m(\u001b[38;5;28mself\u001b[39m):\n\u001b[0;32m   2363\u001b[0m     \u001b[38;5;28;01mfor\u001b[39;00m left, right \u001b[38;5;129;01min\u001b[39;00m \u001b[38;5;28mself\u001b[39m\u001b[38;5;241m.\u001b[39m_a\u001b[38;5;241m.\u001b[39m_iter_break_from_left_to_right():\n\u001b[0;32m   2364\u001b[0m         \u001b[38;5;28;01myield\u001b[39;00m left, right \u001b[38;5;241m+\u001b[39m \u001b[38;5;28mself\u001b[39m\u001b[38;5;241m.\u001b[39m_b\n",
      "\u001b[1;31mKeyboardInterrupt\u001b[0m: "
     ]
    }
   ],
   "source": [
    "eco1.plot.bar()"
   ]
  }
 ],
 "metadata": {
  "kernelspec": {
   "display_name": "Python 3 (ipykernel)",
   "language": "python",
   "name": "python3"
  },
  "language_info": {
   "codemirror_mode": {
    "name": "ipython",
    "version": 3
   },
   "file_extension": ".py",
   "mimetype": "text/x-python",
   "name": "python",
   "nbconvert_exporter": "python",
   "pygments_lexer": "ipython3",
   "version": "3.9.7"
  }
 },
 "nbformat": 4,
 "nbformat_minor": 5
}
