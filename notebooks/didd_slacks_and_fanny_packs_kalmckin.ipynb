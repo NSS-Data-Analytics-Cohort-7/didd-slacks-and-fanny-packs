{
 "cells": [
  {
   "cell_type": "code",
   "execution_count": null,
   "id": "73b31b58",
   "metadata": {},
   "outputs": [],
   "source": [
    "import pandas as pd\n",
    "import numpy as np\n",
    "import matplotlib.pyplot as plt\n",
    "import seaborn as sns"
   ]
  },
  {
   "cell_type": "code",
   "execution_count": null,
   "id": "79490c43",
   "metadata": {},
   "outputs": [],
   "source": [
    "#read them in as two separate vs dictionary. Question on which one would be/would have been more beneificial in the long run\n",
    "eco_df = pd.read_excel(\"../data/teis_data.xlsx\",sheet_name='ECO with Exit21-22')\n",
    "elig_df = pd.read_excel(\"../data/teis_data.xlsx\",sheet_name='Elig Timeline Rpt 2018-2022')\n",
    "elig_df.head(5)"
   ]
  },
  {
   "cell_type": "code",
   "execution_count": null,
   "id": "3f2fe46a",
   "metadata": {},
   "outputs": [],
   "source": [
    "eco_df.rename(columns={'CHILD_ID': 'child_id', 'DISTRICT': 'district'}, inplace=True)"
   ]
  },
  {
   "cell_type": "code",
   "execution_count": null,
   "id": "282eb999",
   "metadata": {},
   "outputs": [],
   "source": [
    "eco_df.head(5)"
   ]
  },
  {
   "cell_type": "code",
   "execution_count": null,
   "id": "7b44f1b4",
   "metadata": {},
   "outputs": [],
   "source": [
    "elig_df.rename(columns={'Child ID': 'child_id', 'District': 'district', 'Init. Elig. Category': 'elig_cat'}, inplace=True)"
   ]
  },
  {
   "cell_type": "code",
   "execution_count": null,
   "id": "3796c029",
   "metadata": {},
   "outputs": [],
   "source": [
    "elig_df.head(5)"
   ]
  },
  {
   "cell_type": "code",
   "execution_count": null,
   "id": "0ac26c9d",
   "metadata": {},
   "outputs": [],
   "source": [
    "#elig_df.dtypes - checking for merge\n",
    "# Child_ID is int"
   ]
  },
  {
   "cell_type": "code",
   "execution_count": null,
   "id": "fc23837c",
   "metadata": {},
   "outputs": [],
   "source": [
    "#eco_exit_df.dtypes - checking for merge - need to change float to int or int to float for Child ID\n",
    "#Child_ID is float "
   ]
  },
  {
   "cell_type": "code",
   "execution_count": null,
   "id": "f1045beb",
   "metadata": {},
   "outputs": [],
   "source": [
    "elig_df = elig_df.astype({\"child_id\": 'float'})"
   ]
  },
  {
   "cell_type": "code",
   "execution_count": null,
   "id": "ecd121e5",
   "metadata": {},
   "outputs": [],
   "source": [
    "eco_elig_combined = eco_df.merge(elig_df, on=[\"district\",\"child_id\"],how=\"outer\")"
   ]
  },
  {
   "cell_type": "code",
   "execution_count": null,
   "id": "130e3373",
   "metadata": {},
   "outputs": [],
   "source": [
    "# elig_df.shape\n",
    "#eco_exit_df.shape\n",
    "#checking to see if the merge maintained file integrity. Seems like it did. \n",
    "#eco_elig_combined.shape"
   ]
  },
  {
   "cell_type": "code",
   "execution_count": null,
   "id": "54c571de",
   "metadata": {},
   "outputs": [],
   "source": [
    "#display merged DF\n",
    "eco_elig_combined"
   ]
  },
  {
   "cell_type": "code",
   "execution_count": null,
   "id": "0f0f1644",
   "metadata": {},
   "outputs": [],
   "source": [
    "eco_elig_combined.info()"
   ]
  },
  {
   "cell_type": "code",
   "execution_count": null,
   "id": "3fc6f3cc",
   "metadata": {},
   "outputs": [],
   "source": [
    "#replacing spaces in column names with underscore so I don't have problems later with .functions - not sure if this is necessary. the google was unclear\n",
    "# eco_elig_combined.columns = eco_elig_combined.columns.str.replace(' ','_')\n",
    "# not need as we're dropping columns."
   ]
  },
  {
   "cell_type": "code",
   "execution_count": null,
   "id": "d0818d31",
   "metadata": {},
   "outputs": [],
   "source": [
    "#formula for keeping only certain columns\n",
    "eco_elig = eco_elig_combined[[\"district\",\"child_id\",\"<Calc> Months in Program\",\"Ent SOCIAL_SCALE\",\"Ent KNOWLEDGE_SCALE\",\"Ent APPROPRIATE_ACTION_SCALE\",\"Exit SOCIAL_SCALE\",\"Exit KNOWLEDGE_SCALE\",\"Exit APPROPRIATE_ACTION_SCALE\",\"elig_cat\",\"OC1 Data Check\"\n",
    "]]"
   ]
  },
  {
   "cell_type": "code",
   "execution_count": null,
   "id": "94c08a6f",
   "metadata": {},
   "outputs": [],
   "source": [
    "# renaming df to jonathan's naming convention"
   ]
  },
  {
   "cell_type": "code",
   "execution_count": null,
   "id": "6898fd64",
   "metadata": {},
   "outputs": [],
   "source": [
    "eco_elig.columns = ['district', 'child_id', 'month_count', 'ent_social', 'ent_knowledge', 'ent_app_action', 'exit_social', 'exit_knowledge', 'exit_app_action','elig_cat', 'oc1']"
   ]
  },
  {
   "cell_type": "code",
   "execution_count": null,
   "id": "a1764090",
   "metadata": {},
   "outputs": [],
   "source": [
    "eco_elig.head(5)"
   ]
  },
  {
   "cell_type": "code",
   "execution_count": null,
   "id": "43d10e34",
   "metadata": {},
   "outputs": [],
   "source": [
    "eco_elig = eco_elig[eco_elig['oc1'].notna()]"
   ]
  },
  {
   "cell_type": "code",
   "execution_count": null,
   "id": "bc5ad0ac",
   "metadata": {},
   "outputs": [],
   "source": [
    "eco_elig"
   ]
  },
  {
   "cell_type": "code",
   "execution_count": null,
   "id": "22c19b6f",
   "metadata": {},
   "outputs": [],
   "source": [
    "# Calculate the difference between the scores"
   ]
  },
  {
   "cell_type": "code",
   "execution_count": null,
   "id": "1851bc01",
   "metadata": {},
   "outputs": [],
   "source": [
    "eco_elig['social_change'] = eco_elig['exit_social'] - eco_elig['ent_social']\n",
    "eco_elig['knowledge_change'] = eco_elig['exit_knowledge'] - eco_elig['ent_knowledge']\n",
    "eco_elig['app_action_change'] = eco_elig['exit_app_action'] - eco_elig['ent_app_action'] \n",
    "\n",
    "eco_elig"
   ]
  },
  {
   "cell_type": "code",
   "execution_count": null,
   "id": "05ed8b64",
   "metadata": {},
   "outputs": [],
   "source": [
    "# subset the file to just include the change categories"
   ]
  },
  {
   "cell_type": "code",
   "execution_count": null,
   "id": "fd6371f5",
   "metadata": {},
   "outputs": [],
   "source": [
    "eco_change_cat = eco_elig[['social_change', 'knowledge_change', 'app_action_change','elig_cat','district','month_count']]"
   ]
  },
  {
   "cell_type": "code",
   "execution_count": null,
   "id": "622f86a6",
   "metadata": {},
   "outputs": [],
   "source": [
    "drop_change_by_cat = eco_change_cat.dropna()"
   ]
  },
  {
   "cell_type": "code",
   "execution_count": null,
   "id": "701364c0",
   "metadata": {},
   "outputs": [],
   "source": [
    "drop_change_by_cat"
   ]
  },
  {
   "cell_type": "code",
   "execution_count": null,
   "id": "fa059c99",
   "metadata": {},
   "outputs": [],
   "source": [
    "drop_change_by_cat.groupby(['elig_cat']).sum()"
   ]
  },
  {
   "cell_type": "code",
   "execution_count": null,
   "id": "26a9ed80",
   "metadata": {},
   "outputs": [],
   "source": []
  },
  {
   "cell_type": "code",
   "execution_count": null,
   "id": "685cc418",
   "metadata": {},
   "outputs": [],
   "source": []
  }
 ],
 "metadata": {
  "kernelspec": {
   "display_name": "Python 3 (ipykernel)",
   "language": "python",
   "name": "python3"
  },
  "language_info": {
   "codemirror_mode": {
    "name": "ipython",
    "version": 3
   },
   "file_extension": ".py",
   "mimetype": "text/x-python",
   "name": "python",
   "nbconvert_exporter": "python",
   "pygments_lexer": "ipython3",
   "version": "3.9.12"
  }
 },
 "nbformat": 4,
 "nbformat_minor": 5
}
