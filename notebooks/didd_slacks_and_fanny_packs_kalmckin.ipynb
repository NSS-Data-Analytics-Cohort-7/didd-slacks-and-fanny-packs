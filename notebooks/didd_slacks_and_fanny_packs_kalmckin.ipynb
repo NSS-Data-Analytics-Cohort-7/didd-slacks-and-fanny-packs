{
 "cells": [
  {
   "cell_type": "code",
   "execution_count": null,
   "id": "73b31b58",
   "metadata": {},
   "outputs": [],
   "source": [
    "import pandas as pd\n",
    "import numpy as np\n",
    "import matplotlib.pyplot as plt\n",
    "import seaborn as sns"
   ]
  },
  {
   "cell_type": "code",
   "execution_count": null,
   "id": "79490c43",
   "metadata": {},
   "outputs": [],
   "source": [
    "#read them in as two separate vs dictionary. Question on which one would be/would have been more beneificial in the long run\n",
    "eco_exit_df = pd.read_excel(\"../data/teis_data.xlsx\",sheet_name='ECO with Exit21-22')\n",
    "elig_df = pd.read_excel(\"../data/teis_data.xlsx\",sheet_name='Elig Timeline Rpt 2018-2022')\n",
    "elig_df.head(5)"
   ]
  },
  {
   "cell_type": "code",
   "execution_count": null,
   "id": "3f2fe46a",
   "metadata": {},
   "outputs": [],
   "source": [
    "eco_exit_df.rename(columns={'CHILD_ID': 'Child_ID', 'DISTRICT': 'District'}, inplace=True)"
   ]
  },
  {
   "cell_type": "code",
   "execution_count": null,
   "id": "282eb999",
   "metadata": {},
   "outputs": [],
   "source": [
    "eco_exit_df.head(5)"
   ]
  },
  {
   "cell_type": "code",
   "execution_count": null,
   "id": "7b44f1b4",
   "metadata": {},
   "outputs": [],
   "source": [
    "elig_df.rename(columns={'Child ID': 'Child_ID', 'DISTRICT': 'District'}, inplace=True)"
   ]
  },
  {
   "cell_type": "code",
   "execution_count": null,
   "id": "3796c029",
   "metadata": {},
   "outputs": [],
   "source": [
    "elig_df.head(5)"
   ]
  },
  {
   "cell_type": "code",
   "execution_count": null,
   "id": "0ac26c9d",
   "metadata": {},
   "outputs": [],
   "source": [
    "#elig_df.dtypes - checking for merge\n",
    "# Child_ID is int"
   ]
  },
  {
   "cell_type": "code",
   "execution_count": null,
   "id": "fc23837c",
   "metadata": {},
   "outputs": [],
   "source": [
    "#eco_exit_df.dtypes - checking for merge - need to change float to int or int to float for Child ID\n",
    "#Child_ID is float "
   ]
  },
  {
   "cell_type": "code",
   "execution_count": null,
   "id": "f1045beb",
   "metadata": {},
   "outputs": [],
   "source": [
    "elig_df = elig_df.astype({\"Child_ID\": 'float'})"
   ]
  },
  {
   "cell_type": "code",
   "execution_count": null,
   "id": "ecd121e5",
   "metadata": {},
   "outputs": [],
   "source": [
    "eco_elig_combined = elig_df.merge(eco_exit_df, on=[\"District\",\"Child_ID\"],how=\"outer\")"
   ]
  },
  {
   "cell_type": "code",
   "execution_count": null,
   "id": "130e3373",
   "metadata": {},
   "outputs": [],
   "source": [
    "# elig_df.shape\n",
    "#eco_exit_df.shape\n",
    "#checking to see if the merge maintained file integrity. Seems like it did. \n",
    "#eco_elig_combined.shape"
   ]
  },
  {
   "cell_type": "code",
   "execution_count": null,
   "id": "54c571de",
   "metadata": {},
   "outputs": [],
   "source": [
    "#display merged DF\n",
    "eco_elig_combined"
   ]
  },
  {
   "cell_type": "code",
   "execution_count": null,
   "id": "3fc6f3cc",
   "metadata": {},
   "outputs": [],
   "source": [
    "#replacing spaces in column names with underscore so I don't have problems later with .functions - not sure if this is necessary. the google was unclear\n",
    "eco_elig_combined.columns = eco_elig_combined.columns.str.replace(' ','_')"
   ]
  },
  {
   "cell_type": "code",
   "execution_count": null,
   "id": "7a1a7216",
   "metadata": {},
   "outputs": [],
   "source": [
    "eco_elig_combined.head(5)"
   ]
  },
  {
   "cell_type": "code",
   "execution_count": null,
   "id": "89ef072b",
   "metadata": {},
   "outputs": [],
   "source": [
    "#next step is to subset the data into each category for the read me"
   ]
  }
 ],
 "metadata": {
  "kernelspec": {
   "display_name": "Python 3 (ipykernel)",
   "language": "python",
   "name": "python3"
  },
  "language_info": {
   "codemirror_mode": {
    "name": "ipython",
    "version": 3
   },
   "file_extension": ".py",
   "mimetype": "text/x-python",
   "name": "python",
   "nbconvert_exporter": "python",
   "pygments_lexer": "ipython3",
   "version": "3.9.12"
  }
 },
 "nbformat": 4,
 "nbformat_minor": 5
}
