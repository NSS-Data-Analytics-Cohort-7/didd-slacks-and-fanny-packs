{
 "cells": [
  {
   "cell_type": "code",
   "execution_count": null,
   "id": "ff6a128e",
   "metadata": {},
   "outputs": [],
   "source": [
    "import pandas as pd\n",
    "import numpy as np\n",
    "import matplotlib.pyplot as plt\n",
    "import seaborn as sns"
   ]
  },
  {
   "cell_type": "code",
   "execution_count": null,
   "id": "e5d9f705",
   "metadata": {},
   "outputs": [],
   "source": [
    "eco = pd.read_excel(\"../data/TEIS-NSS Project Data 10-2022.xlsx\",sheet_name=('ECO with Exit21-22'))\n",
    "elig = pd.read_excel(\"../data/TEIS-NSS Project Data 10-2022.xlsx\",sheet_name=('Elig Timeline Rpt 2018-2022'))"
   ]
  },
  {
   "cell_type": "code",
   "execution_count": null,
   "id": "d0b2b311",
   "metadata": {
    "scrolled": true
   },
   "outputs": [],
   "source": [
    "eco.head(10)"
   ]
  },
  {
   "cell_type": "code",
   "execution_count": null,
   "id": "4985e09a",
   "metadata": {
    "scrolled": true
   },
   "outputs": [],
   "source": [
    "eco.tail(10)"
   ]
  },
  {
   "cell_type": "code",
   "execution_count": null,
   "id": "61b7ba56",
   "metadata": {},
   "outputs": [],
   "source": [
    "eco.info()"
   ]
  },
  {
   "cell_type": "code",
   "execution_count": null,
   "id": "bd44a8ef",
   "metadata": {},
   "outputs": [],
   "source": [
    "elig.info()"
   ]
  },
  {
   "cell_type": "code",
   "execution_count": null,
   "id": "56224000",
   "metadata": {},
   "outputs": [],
   "source": [
    "elig.head()"
   ]
  },
  {
   "cell_type": "code",
   "execution_count": null,
   "id": "1671f215",
   "metadata": {},
   "outputs": [],
   "source": [
    "elig.tail()"
   ]
  },
  {
   "cell_type": "code",
   "execution_count": null,
   "id": "19e4735f",
   "metadata": {},
   "outputs": [],
   "source": [
    "elig.info()"
   ]
  },
  {
   "cell_type": "markdown",
   "id": "ff8606f8",
   "metadata": {},
   "source": [
    "Clean up eco table.\n",
    "With Child ID, District, and day count.\n",
    "Rename CHILD_ID column to Child ID."
   ]
  },
  {
   "cell_type": "code",
   "execution_count": null,
   "id": "ec5dccb7",
   "metadata": {
    "scrolled": false
   },
   "outputs": [],
   "source": [
    "eco_count = eco[[\"CHILD_ID\", \"DISTRICT\", \"<Calc> Day count\"]]"
   ]
  },
  {
   "cell_type": "code",
   "execution_count": null,
   "id": "cf5a383a",
   "metadata": {},
   "outputs": [],
   "source": []
  },
  {
   "cell_type": "markdown",
   "id": "6c43b061",
   "metadata": {},
   "source": [
    "Clean up ELIG table.\n",
    "With Child ID, Elig Category, Day Count"
   ]
  },
  {
   "cell_type": "code",
   "execution_count": null,
   "id": "ca642376",
   "metadata": {
    "scrolled": true
   },
   "outputs": [],
   "source": [
    "elig_cat = elig[['Child ID', 'Init. Elig. Category']]"
   ]
  },
  {
   "cell_type": "code",
   "execution_count": null,
   "id": "f53e68ac",
   "metadata": {},
   "outputs": [],
   "source": []
  }
 ],
 "metadata": {
  "kernelspec": {
   "display_name": "Python 3 (ipykernel)",
   "language": "python",
   "name": "python3"
  },
  "language_info": {
   "codemirror_mode": {
    "name": "ipython",
    "version": 3
   },
   "file_extension": ".py",
   "mimetype": "text/x-python",
   "name": "python",
   "nbconvert_exporter": "python",
   "pygments_lexer": "ipython3",
   "version": "3.9.7"
  }
 },
 "nbformat": 4,
 "nbformat_minor": 5
}
