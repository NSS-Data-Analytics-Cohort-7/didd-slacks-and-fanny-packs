{
 "cells": [
  {
   "cell_type": "code",
   "execution_count": null,
   "id": "b3e18d8a",
   "metadata": {},
   "outputs": [],
   "source": [
    "import pandas as pd\n",
    "import numpy as np\n",
    "import matplotlib.pyplot as plt\n",
    "import seaborn as sns"
   ]
  },
  {
   "cell_type": "code",
   "execution_count": null,
   "id": "607c572e",
   "metadata": {},
   "outputs": [],
   "source": [
    "eco_df = pd.read_excel('../data/TEIS-NSS Project Data 10-2022.xlsx',sheet_name =('ECO with Exit21-22'))\n",
    "elig_df = pd.read_excel('../data/TEIS-NSS Project Data 10-2022.xlsx',sheet_name =('Elig Timeline Rpt 2018-2022'))"
   ]
  },
  {
   "cell_type": "code",
   "execution_count": null,
   "id": "c8067589",
   "metadata": {
    "scrolled": true
   },
   "outputs": [],
   "source": [
    "eco_df.head()"
   ]
  },
  {
   "cell_type": "code",
   "execution_count": null,
   "id": "0846b49c",
   "metadata": {},
   "outputs": [],
   "source": [
    "eco_df.info()"
   ]
  },
  {
   "cell_type": "code",
   "execution_count": null,
   "id": "b51d5e76",
   "metadata": {},
   "outputs": [],
   "source": [
    "new_eco_df = eco_df[['DISTRICT','CHILD_ID','<Calc> Months in Program','Ent SOCIAL_SCALE','Ent KNOWLEDGE_SCALE','Ent APPROPRIATE_ACTION_SCALE','Exit SOCIAL_SCALE','Exit KNOWLEDGE_SCALE','Exit APPROPRIATE_ACTION_SCALE','OC1 Data Check']]"
   ]
  },
  {
   "cell_type": "code",
   "execution_count": null,
   "id": "32befa90",
   "metadata": {},
   "outputs": [],
   "source": [
    "new_eco_df.columns = ['district', 'child_id', 'month_count', 'ent_social','ent_knowledge','ent_app_action','ext_social','exit_knowledge','exit_app_action','oc1_data_check']"
   ]
  },
  {
   "cell_type": "code",
   "execution_count": null,
   "id": "14f494d4",
   "metadata": {},
   "outputs": [],
   "source": [
    "new_eco_df.info()"
   ]
  },
  {
   "cell_type": "markdown",
   "id": "cfe1650b",
   "metadata": {},
   "source": [
    "so only keeping the selected columns from the ECO with Exis21-22"
   ]
  },
  {
   "cell_type": "markdown",
   "id": "1ab841ab",
   "metadata": {},
   "source": [
    "Now that I have the selected columns and and have them renamed to lower case. I am the outlier...so now I'm going to remove the nullls before repeating this same steps for Elig DF in regards to the coloumns and merging the two dataframes. "
   ]
  },
  {
   "cell_type": "markdown",
   "id": "5fb523b6",
   "metadata": {},
   "source": [
    "Before removing the nulls from new_eco_df - I need to see first how many nulls are currently present withing the dataframe, so I can know what I how many nulls are currently present before removing. Will help with the calculations first. "
   ]
  },
  {
   "cell_type": "code",
   "execution_count": null,
   "id": "2456544a",
   "metadata": {},
   "outputs": [],
   "source": [
    "new_eco_df.isna().sum()"
   ]
  },
  {
   "cell_type": "markdown",
   "id": "3b5a0f34",
   "metadata": {},
   "source": [
    "now that I have nulls and the total number of rows that is including null and non-nulls. I will repeat this same process for elig.df and we as a team will compare the numbers again. "
   ]
  },
  {
   "cell_type": "markdown",
   "id": "5c128555",
   "metadata": {},
   "source": [
    "Eligbiity df - excel tab. "
   ]
  },
  {
   "cell_type": "code",
   "execution_count": null,
   "id": "7e88495f",
   "metadata": {},
   "outputs": [],
   "source": [
    "elig_df.head()"
   ]
  },
  {
   "cell_type": "code",
   "execution_count": null,
   "id": "80e92f87",
   "metadata": {},
   "outputs": [],
   "source": [
    "elig_df.info()"
   ]
  },
  {
   "cell_type": "markdown",
   "id": "14b54ada",
   "metadata": {},
   "source": [
    "Now it's time to select the agreed upon columns for the Eligibility Df. "
   ]
  },
  {
   "cell_type": "code",
   "execution_count": null,
   "id": "9fa323bd",
   "metadata": {},
   "outputs": [],
   "source": [
    "new_elig_df = elig_df[['District','Child ID','Init. Elig. Category']]"
   ]
  },
  {
   "cell_type": "code",
   "execution_count": null,
   "id": "3d575570",
   "metadata": {},
   "outputs": [],
   "source": [
    "new_elig_df.columns = ['district','child_id','elig_cat']"
   ]
  },
  {
   "cell_type": "code",
   "execution_count": null,
   "id": "4d25ab6d",
   "metadata": {},
   "outputs": [],
   "source": [
    "new_elig_df.info()"
   ]
  },
  {
   "cell_type": "code",
   "execution_count": null,
   "id": "b019665f",
   "metadata": {},
   "outputs": [],
   "source": [
    "new_elig_df.isna().sum()"
   ]
  },
  {
   "cell_type": "markdown",
   "id": "b39ea800",
   "metadata": {},
   "source": [
    "so now that I have both tables formated and know the amount of nulls and non-nulls, now I will removed nulls from both new datasets before merging them. "
   ]
  },
  {
   "cell_type": "markdown",
   "id": "03c32a1d",
   "metadata": {},
   "source": [
    "Removing nulls from new_eco_df --first then repeating the same steps for new_elgib._df."
   ]
  },
  {
   "cell_type": "code",
   "execution_count": null,
   "id": "728a187f",
   "metadata": {},
   "outputs": [],
   "source": [
    "eco_nnull_df = new_eco_df.dropna(how='any', axis=0)"
   ]
  },
  {
   "cell_type": "code",
   "execution_count": null,
   "id": "f9b77d77",
   "metadata": {},
   "outputs": [],
   "source": [
    "eco_nnull_df.info()"
   ]
  },
  {
   "cell_type": "markdown",
   "id": "f00399af",
   "metadata": {},
   "source": [
    "Now to remove the nulls from the eligibility df."
   ]
  },
  {
   "cell_type": "code",
   "execution_count": null,
   "id": "c9273651",
   "metadata": {},
   "outputs": [],
   "source": [
    "elig_nnull_df = new_elig_df.dropna(how='any', axis=0)"
   ]
  },
  {
   "cell_type": "code",
   "execution_count": null,
   "id": "2d546163",
   "metadata": {},
   "outputs": [],
   "source": [
    "elig_nnull_df.info()"
   ]
  },
  {
   "cell_type": "markdown",
   "id": "e60df532",
   "metadata": {},
   "source": [
    "now that the nulls have been removed from both new DFs, I will now merged and we will compare the values. "
   ]
  },
  {
   "cell_type": "code",
   "execution_count": null,
   "id": "1e9fd3a0",
   "metadata": {},
   "outputs": [],
   "source": [
    "combined_eco_elig_df = eco_nnull_df.merge(elig_nnull_df, on=['district', 'child_id'], how='outer')"
   ]
  },
  {
   "cell_type": "code",
   "execution_count": null,
   "id": "c821965c",
   "metadata": {},
   "outputs": [],
   "source": [
    "combined_eco_elig_df.info()"
   ]
  },
  {
   "cell_type": "code",
   "execution_count": null,
   "id": "5e866cef",
   "metadata": {},
   "outputs": [],
   "source": [
    "display(combined_eco_elig_df)"
   ]
  },
  {
   "cell_type": "markdown",
   "id": "c5ad0e26",
   "metadata": {},
   "source": [
    "Now going to filter out the nulls again to see what our numbers are looking like. "
   ]
  },
  {
   "cell_type": "code",
   "execution_count": null,
   "id": "636e6845",
   "metadata": {},
   "outputs": [],
   "source": [
    "combined_eco_elig_nnull_df = combined_eco_elig_df.dropna(how='any', axis=0)"
   ]
  },
  {
   "cell_type": "code",
   "execution_count": null,
   "id": "30e1825c",
   "metadata": {},
   "outputs": [],
   "source": [
    "combined_eco_elig_nnull_df.info()"
   ]
  },
  {
   "cell_type": "code",
   "execution_count": null,
   "id": "7cee0a31",
   "metadata": {},
   "outputs": [],
   "source": [
    "display(combined_eco_elig_nnull_df)"
   ]
  },
  {
   "cell_type": "markdown",
   "id": "ad34a68b",
   "metadata": {},
   "source": [
    "So now it's time to add the new calculate columns to the new combined_eco_elig_nnull_df to see if we are still getting nulls and will it impact the calacutions. "
   ]
  },
  {
   "cell_type": "code",
   "execution_count": null,
   "id": "67415474",
   "metadata": {},
   "outputs": [],
   "source": [
    "combined_eco_elig_nnull_df['social_change'] = combined_eco_elig_nnull_df['ext_social'] - combined_eco_elig_nnull_df['ent_social']\n",
    "combined_eco_elig_nnull_df['knowledge_change'] = combined_eco_elig_nnull_df['exit_knowledge'] - combined_eco_elig_nnull_df['ent_knowledge']\n",
    "combined_eco_elig_nnull_df['app_action_change'] = combined_eco_elig_nnull_df['exit_app_action'] - combined_eco_elig_nnull_df['ent_app_action']\n"
   ]
  },
  {
   "cell_type": "code",
   "execution_count": null,
   "id": "a4d5f9a0",
   "metadata": {},
   "outputs": [],
   "source": [
    "display(combined_eco_elig_nnull_df)"
   ]
  },
  {
   "cell_type": "code",
   "execution_count": null,
   "id": "2787bfce",
   "metadata": {},
   "outputs": [],
   "source": [
    "comb_ee = combined_eco_elig_nnull_df"
   ]
  },
  {
   "cell_type": "code",
   "execution_count": null,
   "id": "52e6bb97",
   "metadata": {},
   "outputs": [],
   "source": [
    "display(comb_ee)"
   ]
  },
  {
   "cell_type": "markdown",
   "id": "e1557de2",
   "metadata": {},
   "source": [
    "now addding a groupby to see if caluations change. "
   ]
  },
  {
   "cell_type": "code",
   "execution_count": null,
   "id": "3a8bf7e4",
   "metadata": {},
   "outputs": [],
   "source": [
    "sum_change = comb_ee.groupby(['elig_cat']).sum()\n"
   ]
  },
  {
   "cell_type": "code",
   "execution_count": null,
   "id": "7b169e75",
   "metadata": {},
   "outputs": [],
   "source": [
    "display(sum_change)"
   ]
  },
  {
   "cell_type": "code",
   "execution_count": null,
   "id": "6e5a695a",
   "metadata": {},
   "outputs": [],
   "source": [
    "display(comb_ee)"
   ]
  },
  {
   "cell_type": "code",
   "execution_count": null,
   "id": "3427ac67",
   "metadata": {},
   "outputs": [],
   "source": [
    "count_change = comb_ee.groupby(['elig_cat']).count()"
   ]
  },
  {
   "cell_type": "code",
   "execution_count": null,
   "id": "4299d721",
   "metadata": {},
   "outputs": [],
   "source": [
    "display(count_change)"
   ]
  },
  {
   "cell_type": "markdown",
   "id": "6a18ddfe",
   "metadata": {},
   "source": [
    "our numbers are looking good. time to plot. but before ploting --I need to separte the 3 elig_cat into separte df to have a plot for each category. "
   ]
  },
  {
   "cell_type": "code",
   "execution_count": null,
   "id": "5a56b0e3",
   "metadata": {},
   "outputs": [],
   "source": [
    "dev_eval = comb_ee[['district','elig_cat','social_change', 'knowledge_change','app_action_change']]"
   ]
  },
  {
   "cell_type": "code",
   "execution_count": null,
   "id": "1beefc49",
   "metadata": {},
   "outputs": [],
   "source": [
    "dev_eval.info()"
   ]
  },
  {
   "cell_type": "code",
   "execution_count": null,
   "id": "e0a19f1d",
   "metadata": {},
   "outputs": [],
   "source": [
    "display(dev_eval)"
   ]
  },
  {
   "cell_type": "markdown",
   "id": "5b34b76e",
   "metadata": {},
   "source": [
    "going to attempt to plot a histogram to show by district how social change was impacted by Developmental Evaulation."
   ]
  },
  {
   "cell_type": "code",
   "execution_count": null,
   "id": "aacf514f",
   "metadata": {},
   "outputs": [],
   "source": [
    "sns.histplot(data = dev_eval, x = 'district')"
   ]
  },
  {
   "cell_type": "code",
   "execution_count": null,
   "id": "13b7bbe5",
   "metadata": {},
   "outputs": [],
   "source": [
    "sns.histplot(data = dev_eval, x = 'district',bins = 40, color = 'purple', edgecolor = 'black', hue='knowledge_change', multiple='stack')"
   ]
  },
  {
   "cell_type": "code",
   "execution_count": null,
   "id": "7f24b67b",
   "metadata": {},
   "outputs": [],
   "source": [
    "sns.histplot(data = dev_eval, x = 'district',color = 'red', edgecolor = 'black', hue='social_change', multiple='stack', legend='left')\n",
    "                                                                                                       "
   ]
  },
  {
   "cell_type": "code",
   "execution_count": null,
   "id": "1d49d1c1",
   "metadata": {},
   "outputs": [],
   "source": [
    "sns.histplot(data = dev_eval, x = 'district', kde=True)"
   ]
  },
  {
   "cell_type": "code",
   "execution_count": null,
   "id": "75d87dd7",
   "metadata": {},
   "outputs": [],
   "source": [
    "sns.histplot(data = dev_eval, x = 'district', y = 'social_change', kde=True)"
   ]
  },
  {
   "cell_type": "code",
   "execution_count": null,
   "id": "5e2f489d",
   "metadata": {},
   "outputs": [],
   "source": [
    "sns.barplot(data= dev_eval, x='district', y= 'knowledge_change', edgecolor = 'black', \n",
    "            order= ('FT','UC','SW','ET','NW','SE','GN','SC','MD'))\n"
   ]
  },
  {
   "cell_type": "code",
   "execution_count": null,
   "id": "5f218876",
   "metadata": {},
   "outputs": [],
   "source": [
    "sns.barplot(data= dev_eval, x='district', y= 'social_change', edgecolor = 'black', \n",
    "            order= ('FT','UC','SW','ET','NW','SE','GN','SC','MD'))"
   ]
  },
  {
   "cell_type": "code",
   "execution_count": null,
   "id": "c6fc3316",
   "metadata": {},
   "outputs": [],
   "source": [
    "sns.barplot(data= dev_eval, x='district', y= 'app_action_change', edgecolor = 'black', \n",
    "            order= ('FT','UC','SW','ET','NW','SE','GN','SC','MD'))"
   ]
  }
 ],
 "metadata": {
  "kernelspec": {
   "display_name": "Python 3 (ipykernel)",
   "language": "python",
   "name": "python3"
  },
  "language_info": {
   "codemirror_mode": {
    "name": "ipython",
    "version": 3
   },
   "file_extension": ".py",
   "mimetype": "text/x-python",
   "name": "python",
   "nbconvert_exporter": "python",
   "pygments_lexer": "ipython3",
   "version": "3.9.12"
  }
 },
 "nbformat": 4,
 "nbformat_minor": 5
}
