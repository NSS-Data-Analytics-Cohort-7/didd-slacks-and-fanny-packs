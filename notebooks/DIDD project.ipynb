{
 "cells": [
  {
   "cell_type": "code",
   "execution_count": null,
   "id": "b3e18d8a",
   "metadata": {},
   "outputs": [],
   "source": [
    "import pandas as pd\n",
    "import numpy as np\n",
    "import matplotlib.pyplot as plt\n",
    "import seaborn as sns"
   ]
  },
  {
   "cell_type": "code",
   "execution_count": null,
   "id": "607c572e",
   "metadata": {},
   "outputs": [],
   "source": [
    "eco_df = pd.read_excel('../data/TEIS-NSS Project Data 10-2022.xlsx',sheet_name =('ECO with Exit21-22'))\n",
    "elig_df = pd.read_excel('../data/TEIS-NSS Project Data 10-2022.xlsx',sheet_name =('Elig Timeline Rpt 2018-2022'))"
   ]
  },
  {
   "cell_type": "code",
   "execution_count": null,
   "id": "c8067589",
   "metadata": {
    "scrolled": true
   },
   "outputs": [],
   "source": [
    "eco_df.head()"
   ]
  },
  {
   "cell_type": "code",
   "execution_count": null,
   "id": "4091d448",
   "metadata": {},
   "outputs": [],
   "source": [
    "eco_df.info()"
   ]
  },
  {
   "cell_type": "code",
   "execution_count": null,
   "id": "f9a8d1a5",
   "metadata": {},
   "outputs": [],
   "source": [
    "eco_df = eco_df[['DISTRICT', 'CHILD_ID','<Calc> Months in Program','Ent SOCIAL_SCALE','Ent KNOWLEDGE_SCALE','Ent APPROPRIATE_ACTION_SCALE','Exit SOCIAL_SCALE','Exit KNOWLEDGE_SCALE','Exit APPROPRIATE_ACTION_SCALE']]"
   ]
  },
  {
   "cell_type": "markdown",
   "id": "20af0e4c",
   "metadata": {},
   "source": [
    "so only keeping the selected columns from the ECO with Exis21-22"
   ]
  },
  {
   "cell_type": "code",
   "execution_count": null,
   "id": "4c1acccf",
   "metadata": {},
   "outputs": [],
   "source": [
    "display(eco_df)"
   ]
  },
  {
   "cell_type": "markdown",
   "id": "21089696",
   "metadata": {},
   "source": [
    "Now I need to rename of the columns for the new eco_df."
   ]
  },
  {
   "cell_type": "code",
   "execution_count": null,
   "id": "3c612a96",
   "metadata": {},
   "outputs": [],
   "source": [
    "eco_df.columns['district', 'child_id', '']"
   ]
  },
  {
   "cell_type": "code",
   "execution_count": null,
   "id": "8fed2203",
   "metadata": {},
   "outputs": [],
   "source": [
    "elig_df.head()"
   ]
  },
  {
   "cell_type": "code",
   "execution_count": null,
   "id": "149e0aae",
   "metadata": {},
   "outputs": [],
   "source": []
  },
  {
   "cell_type": "code",
   "execution_count": null,
   "id": "2456544a",
   "metadata": {},
   "outputs": [],
   "source": [
    "elig_df = elig_df = elig_df.astype({'Child ID': 'float'})"
   ]
  },
  {
   "cell_type": "code",
   "execution_count": null,
   "id": "3e5af3d8",
   "metadata": {},
   "outputs": [],
   "source": [
    "display(elig_df)"
   ]
  },
  {
   "cell_type": "code",
   "execution_count": null,
   "id": "a5a15a8f",
   "metadata": {},
   "outputs": [],
   "source": []
  }
 ],
 "metadata": {
  "kernelspec": {
   "display_name": "Python 3 (ipykernel)",
   "language": "python",
   "name": "python3"
  },
  "language_info": {
   "codemirror_mode": {
    "name": "ipython",
    "version": 3
   },
   "file_extension": ".py",
   "mimetype": "text/x-python",
   "name": "python",
   "nbconvert_exporter": "python",
   "pygments_lexer": "ipython3",
   "version": "3.9.12"
  }
 },
 "nbformat": 4,
 "nbformat_minor": 5
}
