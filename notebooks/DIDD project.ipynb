{
 "cells": [
  {
   "cell_type": "code",
   "execution_count": null,
   "id": "b3e18d8a",
   "metadata": {},
   "outputs": [],
   "source": [
    "import pandas as pd\n",
    "import numpy as np\n",
    "import matplotlib.pyplot as plt\n",
    "import seaborn as sns"
   ]
  },
  {
   "cell_type": "code",
   "execution_count": null,
   "id": "607c572e",
   "metadata": {},
   "outputs": [],
   "source": [
    "eco_df = pd.read_excel('../data/TEIS-NSS Project Data 10-2022.xlsx',sheet_name =('ECO with Exit21-22'))\n",
    "elig_df = pd.read_excel('../data/TEIS-NSS Project Data 10-2022.xlsx',sheet_name =('Elig Timeline Rpt 2018-2022'))"
   ]
  },
  {
   "cell_type": "code",
   "execution_count": null,
   "id": "c8067589",
   "metadata": {
    "scrolled": true
   },
   "outputs": [],
   "source": [
    "eco_df.head()"
   ]
  },
  {
   "cell_type": "code",
   "execution_count": null,
   "id": "0846b49c",
   "metadata": {},
   "outputs": [],
   "source": [
    "eco_df.info()"
   ]
  },
  {
   "cell_type": "code",
   "execution_count": null,
   "id": "b51d5e76",
   "metadata": {},
   "outputs": [],
   "source": [
    "new_eco_df = eco_df[['DISTRICT','CHILD_ID','<Calc> Months in Program','Ent SOCIAL_SCALE','Ent KNOWLEDGE_SCALE','Ent APPROPRIATE_ACTION_SCALE','Exit SOCIAL_SCALE','Exit KNOWLEDGE_SCALE','Exit APPROPRIATE_ACTION_SCALE','OC1 Data Check']]"
   ]
  },
  {
   "cell_type": "code",
   "execution_count": null,
   "id": "155312d4",
   "metadata": {},
   "outputs": [],
   "source": [
    "new_eco_df.columns = ['district', 'child_id', 'month_count', 'ent_social','ent_knowledge','ent_app_action','ext_social','exit_knowledge','exit_app_action','oc1_data_check']"
   ]
  },
  {
   "cell_type": "code",
   "execution_count": null,
   "id": "7c28451b",
   "metadata": {},
   "outputs": [],
   "source": [
    "new_eco_df.info()"
   ]
  },
  {
   "cell_type": "markdown",
   "id": "cfe1650b",
   "metadata": {},
   "source": [
    "so only keeping the selected columns from the ECO with Exis21-22"
   ]
  },
  {
   "cell_type": "markdown",
   "id": "f255aba5",
   "metadata": {},
   "source": [
    "Now that I have the selected columns and and have them renamed to lower case. I am the outlier...so now I'm going to remove the nullls before repeating this same steps for Elig DF in regards to the coloumns and merging the two dataframes. "
   ]
  },
  {
   "cell_type": "markdown",
   "id": "3d476691",
   "metadata": {},
   "source": [
    "Before removing the nulls from new_eco_df - I need to see first how many nulls are currently present withing the dataframe, so I can know what I how many nulls are currently present before removing. Will help with the calculations first. "
   ]
  },
  {
   "cell_type": "code",
   "execution_count": null,
   "id": "2456544a",
   "metadata": {},
   "outputs": [],
   "source": [
    "new_eco_df.isna().sum()"
   ]
  },
  {
   "cell_type": "markdown",
   "id": "c51161f4",
   "metadata": {},
   "source": [
    "now that I have nulls and the total number of rows that is including null and non-nulls. I will repeat this same process for elig.df and we as a team will compare the numbers again. "
   ]
  },
  {
   "cell_type": "markdown",
   "id": "af8daad8",
   "metadata": {},
   "source": [
    "Eligbiity df - excel tab. "
   ]
  },
  {
   "cell_type": "code",
   "execution_count": null,
   "id": "b4452c73",
   "metadata": {},
   "outputs": [],
   "source": [
    "elig_df.head()"
   ]
  },
  {
   "cell_type": "code",
   "execution_count": null,
   "id": "7cf318be",
   "metadata": {},
   "outputs": [],
   "source": [
    "elig_df.info()"
   ]
  },
  {
   "cell_type": "markdown",
   "id": "429d597a",
   "metadata": {},
   "source": [
    "Now it's time to select the agreed upon columns for the Eligibility Df. "
   ]
  },
  {
   "cell_type": "code",
   "execution_count": null,
   "id": "2e69b30e",
   "metadata": {},
   "outputs": [],
   "source": [
    "new_elig_df = elig_df[['District','Child ID','Init. Elig. Category']]"
   ]
  },
  {
   "cell_type": "code",
   "execution_count": null,
   "id": "736d18cb",
   "metadata": {},
   "outputs": [],
   "source": [
    "new_elig_df.columns = ['district','child_id','elig_cat']"
   ]
  },
  {
   "cell_type": "code",
   "execution_count": null,
   "id": "f76c5463",
   "metadata": {},
   "outputs": [],
   "source": [
    "new_elig_df.info()"
   ]
  },
  {
   "cell_type": "code",
   "execution_count": null,
   "id": "ff0d5a44",
   "metadata": {},
   "outputs": [],
   "source": [
    "new_elig_df.isna().sum()"
   ]
  },
  {
   "cell_type": "markdown",
   "id": "c96214d0",
   "metadata": {},
   "source": [
    "so now that I have both tables formated and know the amount of nulls and non-nulls, now I will removed nulls from both new datasets before merging them. "
   ]
  },
  {
   "cell_type": "markdown",
   "id": "a92fc14f",
   "metadata": {},
   "source": [
    "Removing nulls from new_eco_df --first then repeating the same steps for new_elgib._df."
   ]
  },
  {
   "cell_type": "code",
   "execution_count": null,
   "id": "36214060",
   "metadata": {},
   "outputs": [],
   "source": [
    "eco_nnull_df = new_eco_df.dropna(how='any', axis=0)"
   ]
  },
  {
   "cell_type": "code",
   "execution_count": null,
   "id": "17bbe4a5",
   "metadata": {},
   "outputs": [],
   "source": [
    "eco_nnull_df.info()"
   ]
  },
  {
   "cell_type": "markdown",
   "id": "41af5dfd",
   "metadata": {},
   "source": [
    "Now to remove the nulls from the eligibility df."
   ]
  },
  {
   "cell_type": "code",
   "execution_count": null,
   "id": "a3ffc533",
   "metadata": {},
   "outputs": [],
   "source": [
    "elig_nnull_df = new_elig_df.dropna(how='any', axis=0)"
   ]
  },
  {
   "cell_type": "code",
   "execution_count": null,
   "id": "27090a82",
   "metadata": {},
   "outputs": [],
   "source": [
    "elig_nnull_df.info()"
   ]
  },
  {
   "cell_type": "markdown",
   "id": "4122a5c3",
   "metadata": {},
   "source": [
    "now that the nulls have been removed from both new DFs, I will now merged and we will compare the values. "
   ]
  },
  {
   "cell_type": "code",
   "execution_count": null,
   "id": "e08a83b0",
   "metadata": {},
   "outputs": [],
   "source": [
    "combined_eco_elig_df = eco_nnull_df.merge(elig_nnull_df, on=['district', 'child_id'], how='outer')"
   ]
  },
  {
   "cell_type": "code",
   "execution_count": null,
   "id": "3f1fef1a",
   "metadata": {},
   "outputs": [],
   "source": [
    "combined_eco_elig_df.info()"
   ]
  },
  {
   "cell_type": "code",
   "execution_count": null,
   "id": "f9058b60",
   "metadata": {},
   "outputs": [],
   "source": [
    "display(combined_eco_elig_df)"
   ]
  },
  {
   "cell_type": "markdown",
   "id": "b34d4b95",
   "metadata": {},
   "source": [
    "Now going to filter out the nulls again to see what our numbers are looking like. "
   ]
  },
  {
   "cell_type": "code",
   "execution_count": null,
   "id": "fa287325",
   "metadata": {},
   "outputs": [],
   "source": [
    "combined_eco_elig_nnull_df = combined_eco_elig_df.dropna(how='any', axis=0)"
   ]
  },
  {
   "cell_type": "code",
   "execution_count": null,
   "id": "bb67d94a",
   "metadata": {},
   "outputs": [],
   "source": [
    "combined_eco_elig_nnull_df.info()"
   ]
  },
  {
   "cell_type": "code",
   "execution_count": null,
   "id": "a5a0bbca",
   "metadata": {},
   "outputs": [],
   "source": [
    "display(combined_eco_elig_nnull_df)"
   ]
  },
  {
   "cell_type": "markdown",
   "id": "1c7ef527",
   "metadata": {},
   "source": [
    "So now it's time to add the new calculate columns to the new combined_eco_elig_nnull_df to see if we are still getting nulls and will it impact the calacutions. "
   ]
  },
  {
   "cell_type": "code",
   "execution_count": null,
   "id": "7b6e9d60",
   "metadata": {},
   "outputs": [],
   "source": [
    "combined_eco_elig_nnull_df['social_change'] = combined_eco_elig_nnull_df['ext_social'] - combined_eco_elig_nnull_df['ent_social']\n",
    "combined_eco_elig_nnull_df['knowledge_change'] = combined_eco_elig_nnull_df['exit_knowledge'] - combined_eco_elig_nnull_df['ent_knowledge']\n",
    "combined_eco_elig_nnull_df['app_action_change'] = combined_eco_elig_nnull_df['exit_app_action'] - combined_eco_elig_nnull_df['ent_app_action']\n"
   ]
  },
  {
   "cell_type": "code",
   "execution_count": null,
   "id": "6d94ae20",
   "metadata": {},
   "outputs": [],
   "source": [
    "display(combined_eco_elig_nnull_df)"
   ]
  },
  {
   "cell_type": "code",
   "execution_count": null,
   "id": "befd3f83",
   "metadata": {},
   "outputs": [],
   "source": [
    "comb_ee = combined_eco_elig_nnull_df"
   ]
  },
  {
   "cell_type": "code",
   "execution_count": null,
   "id": "348e9fa0",
   "metadata": {},
   "outputs": [],
   "source": [
    "display(comb_ee)"
   ]
  },
  {
   "cell_type": "markdown",
   "id": "1647f434",
   "metadata": {},
   "source": [
    "now addding a groupby to see if caluations change. "
   ]
  },
  {
   "cell_type": "code",
   "execution_count": null,
   "id": "abac2a6b",
   "metadata": {},
   "outputs": [],
   "source": [
    "sum_change = comb_ee.groupby(['elig_cat']).sum()\n"
   ]
  },
  {
   "cell_type": "code",
   "execution_count": null,
   "id": "5bf096cf",
   "metadata": {},
   "outputs": [],
   "source": [
    "display(sum_change)"
   ]
  },
  {
   "cell_type": "code",
   "execution_count": null,
   "id": "4ff3f21b",
   "metadata": {},
   "outputs": [],
   "source": [
    "display(comb_ee)"
   ]
  },
  {
   "cell_type": "code",
   "execution_count": null,
   "id": "3d3f10ed",
   "metadata": {},
   "outputs": [],
   "source": [
    "count_change = comb_ee.groupby(['elig_cat']).count()"
   ]
  },
  {
   "cell_type": "code",
   "execution_count": null,
   "id": "10d09543",
   "metadata": {},
   "outputs": [],
   "source": [
    "display(count_change)"
   ]
  },
  {
   "cell_type": "markdown",
   "id": "81166f54",
   "metadata": {},
   "source": [
    "our numbers are looking good. time to plot. but before ploting --I need to separte the 3 elig_cat into separte df to have a plot for each category. "
   ]
  },
  {
   "cell_type": "code",
   "execution_count": null,
   "id": "ad023457",
   "metadata": {},
   "outputs": [],
   "source": [
    "dev_eval = comb_ee[['elig_cat','social_change']]"
   ]
  },
  {
   "cell_type": "code",
   "execution_count": null,
   "id": "07e12093",
   "metadata": {},
   "outputs": [],
   "source": [
    "dev_eval.info()"
   ]
  },
  {
   "cell_type": "code",
   "execution_count": null,
   "id": "03e7579b",
   "metadata": {},
   "outputs": [],
   "source": [
    " dev_eval.plt.subplots('elig_cat','social_change', sharey=True, tight_layout=True)\n"
   ]
  }
 ],
 "metadata": {
  "kernelspec": {
   "display_name": "Python 3 (ipykernel)",
   "language": "python",
   "name": "python3"
  },
  "language_info": {
   "codemirror_mode": {
    "name": "ipython",
    "version": 3
   },
   "file_extension": ".py",
   "mimetype": "text/x-python",
   "name": "python",
   "nbconvert_exporter": "python",
   "pygments_lexer": "ipython3",
   "version": "3.9.12"
  }
 },
 "nbformat": 4,
 "nbformat_minor": 5
}
