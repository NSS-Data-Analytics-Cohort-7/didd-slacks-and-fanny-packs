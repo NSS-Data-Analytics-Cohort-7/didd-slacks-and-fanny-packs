{
 "cells": [
  {
   "cell_type": "code",
   "execution_count": null,
   "id": "b3e18d8a",
   "metadata": {},
   "outputs": [],
   "source": [
    "import pandas as pd\n",
    "import numpy as np\n",
    "import matplotlib.pyplot as plt\n",
    "import seaborn as sns"
   ]
  },
  {
   "cell_type": "code",
   "execution_count": null,
   "id": "607c572e",
   "metadata": {},
   "outputs": [],
   "source": [
    "eco_df = pd.read_excel('../data/TEIS-NSS Project Data 10-2022.xlsx',sheet_name =('ECO with Exit21-22'))\n",
    "elig_df = pd.read_excel('../data/TEIS-NSS Project Data 10-2022.xlsx',sheet_name =('Elig Timeline Rpt 2018-2022'))"
   ]
  },
  {
   "cell_type": "code",
   "execution_count": null,
   "id": "c8067589",
   "metadata": {},
   "outputs": [],
   "source": [
    "eco_df.head()"
   ]
  },
  {
   "cell_type": "code",
   "execution_count": null,
   "id": "72d7e717",
   "metadata": {},
   "outputs": [],
   "source": [
    "elig_df.head()"
   ]
  },
  {
   "cell_type": "code",
   "execution_count": null,
   "id": "d6ccbe86",
   "metadata": {},
   "outputs": [],
   "source": [
    "eco_df.dtypes"
   ]
  },
  {
   "cell_type": "code",
   "execution_count": null,
   "id": "6308e657",
   "metadata": {},
   "outputs": [],
   "source": [
    "elig_df.dtypes"
   ]
  },
  {
   "cell_type": "code",
   "execution_count": null,
   "id": "2456544a",
   "metadata": {},
   "outputs": [],
   "source": [
    "elig_df = elig_df = elig_df.astype({'Child ID': 'float'})"
   ]
  },
  {
   "cell_type": "code",
   "execution_count": null,
   "id": "a5e3ba5f",
   "metadata": {},
   "outputs": [],
   "source": [
    "display(elig_df)"
   ]
  },
  {
   "cell_type": "code",
   "execution_count": null,
   "id": "3e5af3d8",
   "metadata": {},
   "outputs": [],
   "source": []
  }
 ],
 "metadata": {
  "kernelspec": {
   "display_name": "Python 3 (ipykernel)",
   "language": "python",
   "name": "python3"
  },
  "language_info": {
   "codemirror_mode": {
    "name": "ipython",
    "version": 3
   },
   "file_extension": ".py",
   "mimetype": "text/x-python",
   "name": "python",
   "nbconvert_exporter": "python",
   "pygments_lexer": "ipython3",
   "version": "3.9.12"
  }
 },
 "nbformat": 4,
 "nbformat_minor": 5
}
