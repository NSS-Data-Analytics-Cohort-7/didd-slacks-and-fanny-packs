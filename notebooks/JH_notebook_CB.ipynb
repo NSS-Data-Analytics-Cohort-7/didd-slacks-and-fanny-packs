{
 "cells": [
  {
   "cell_type": "code",
   "execution_count": null,
   "id": "f24c91b9",
   "metadata": {},
   "outputs": [],
   "source": [
    "import pandas as pd\n",
    "import numpy as np\n",
    "import matplotlib.pyplot as plt\n",
    "import seaborn as sns"
   ]
  },
  {
   "cell_type": "code",
   "execution_count": null,
   "id": "c42a973e",
   "metadata": {},
   "outputs": [],
   "source": [
    "eco = pd.read_excel(\"../data/TEIS-NSS Project Data 10-2022.xlsx\",sheet_name=('ECO with Exit21-22'))\n",
    "elig = pd.read_excel(\"../data/TEIS-NSS Project Data 10-2022.xlsx\",sheet_name=('Elig Timeline Rpt 2018-2022'))"
   ]
  },
  {
   "cell_type": "code",
   "execution_count": null,
   "id": "29a6abfa",
   "metadata": {},
   "outputs": [],
   "source": [
    "eco['CHILD_ID']"
   ]
  },
  {
   "cell_type": "code",
   "execution_count": null,
   "id": "ec79fdaa",
   "metadata": {},
   "outputs": [],
   "source": [
    "elig['Child ID']"
   ]
  },
  {
   "cell_type": "code",
   "execution_count": null,
   "id": "88efdc48",
   "metadata": {},
   "outputs": [],
   "source": [
    "eco.head(10)"
   ]
  },
  {
   "cell_type": "code",
   "execution_count": null,
   "id": "9817cd74",
   "metadata": {},
   "outputs": [],
   "source": [
    "eco.tail(10)"
   ]
  },
  {
   "cell_type": "code",
   "execution_count": null,
   "id": "09acbf22",
   "metadata": {},
   "outputs": [],
   "source": [
    "eco.info()"
   ]
  },
  {
   "cell_type": "code",
   "execution_count": null,
   "id": "18c195c9",
   "metadata": {},
   "outputs": [],
   "source": [
    "eco['<Calc> Months in Program'].head()"
   ]
  },
  {
   "cell_type": "code",
   "execution_count": null,
   "id": "b52cad89",
   "metadata": {
    "scrolled": true
   },
   "outputs": [],
   "source": [
    "elig.info()"
   ]
  },
  {
   "cell_type": "code",
   "execution_count": null,
   "id": "b8514266",
   "metadata": {},
   "outputs": [],
   "source": [
    "elig.head()"
   ]
  },
  {
   "cell_type": "code",
   "execution_count": null,
   "id": "b3c90e17",
   "metadata": {},
   "outputs": [],
   "source": [
    "elig.tail()"
   ]
  },
  {
   "cell_type": "markdown",
   "id": "641ee090",
   "metadata": {},
   "source": [
    "### Clean up eco table.\n",
    "With Child ID, District, and day count.\n",
    "Rename columns to child_id, district, day_count"
   ]
  },
  {
   "cell_type": "code",
   "execution_count": null,
   "id": "4edc7184",
   "metadata": {
    "scrolled": false
   },
   "outputs": [],
   "source": [
    "eco_count = eco[[\"CHILD_ID\", \"DISTRICT\", \"<Calc> Months in Program\",\"Ent SOCIAL_SCALE\",\"Ent KNOWLEDGE_SCALE\",\"Ent APPROPRIATE_ACTION_SCALE\",\"Exit SOCIAL_SCALE\",\"Exit KNOWLEDGE_SCALE\",\"Exit APPROPRIATE_ACTION_SCALE\", 'OC1 Data Check']]"
   ]
  },
  {
   "cell_type": "code",
   "execution_count": null,
   "id": "7154da59",
   "metadata": {},
   "outputs": [],
   "source": [
    "eco_count.columns = ['child_id', 'district', 'month_count', 'ent_social', 'ent_knowledge', 'ent_app_action', 'exit_social', 'exit_knowledge', 'exit_app_action', 'oc1']\n",
    "eco_count.info()"
   ]
  },
  {
   "cell_type": "code",
   "execution_count": null,
   "id": "165886c8",
   "metadata": {},
   "outputs": [],
   "source": [
    "eco_count['district'].head(20)"
   ]
  },
  {
   "cell_type": "markdown",
   "id": "c9617e28",
   "metadata": {},
   "source": [
    "### Clean up ELIG table.\n",
    "With Child ID, Elig Category, Day Count\n",
    "Rename columns to child_id, elig_cat\n",
    "Change data to float"
   ]
  },
  {
   "cell_type": "code",
   "execution_count": null,
   "id": "67fee991",
   "metadata": {
    "scrolled": true
   },
   "outputs": [],
   "source": [
    "elig_cat1 = elig[[\"Child ID\", \"Init. Elig. Category\", 'District']]"
   ]
  },
  {
   "cell_type": "code",
   "execution_count": null,
   "id": "ef06a2ec",
   "metadata": {
    "scrolled": true
   },
   "outputs": [],
   "source": [
    "elig_cat1.columns = ['child_id', 'elig_cat', 'district']"
   ]
  },
  {
   "cell_type": "code",
   "execution_count": null,
   "id": "4ab5f734",
   "metadata": {},
   "outputs": [],
   "source": [
    "elig_cat1.info()"
   ]
  },
  {
   "cell_type": "code",
   "execution_count": null,
   "id": "92edcd8a",
   "metadata": {},
   "outputs": [],
   "source": [
    "elig_cat1.head(20)"
   ]
  },
  {
   "cell_type": "code",
   "execution_count": null,
   "id": "17f648d1",
   "metadata": {},
   "outputs": [],
   "source": [
    "elig_cat1.groupby(['elig_cat'])['elig_cat'].count()"
   ]
  },
  {
   "cell_type": "code",
   "execution_count": null,
   "id": "103b6e27",
   "metadata": {},
   "outputs": [],
   "source": [
    "elig_cat1[\"child_id\"] = pd.to_numeric(elig_cat1[\"child_id\"], downcast=\"float\")"
   ]
  },
  {
   "cell_type": "code",
   "execution_count": null,
   "id": "b8cdabb3",
   "metadata": {},
   "outputs": [],
   "source": [
    "elig_cat1.info()"
   ]
  },
  {
   "cell_type": "markdown",
   "id": "b52084eb",
   "metadata": {},
   "source": [
    "### Merge the two new tables."
   ]
  },
  {
   "cell_type": "code",
   "execution_count": null,
   "id": "0daefd22",
   "metadata": {},
   "outputs": [],
   "source": [
    "eco_elig = pd.merge(eco_count, elig_cat1, how='outer',on=['child_id', 'district'])"
   ]
  },
  {
   "cell_type": "code",
   "execution_count": null,
   "id": "4d923058",
   "metadata": {},
   "outputs": [],
   "source": [
    "eco_elig.info()"
   ]
  },
  {
   "cell_type": "code",
   "execution_count": null,
   "id": "dc893ec4",
   "metadata": {
    "scrolled": true
   },
   "outputs": [],
   "source": [
    "eco_elig.head(20)"
   ]
  },
  {
   "cell_type": "code",
   "execution_count": null,
   "id": "cef21bce",
   "metadata": {},
   "outputs": [],
   "source": [
    "eco_elig.tail(20)"
   ]
  },
  {
   "cell_type": "code",
   "execution_count": null,
   "id": "397e0b38",
   "metadata": {},
   "outputs": [],
   "source": [
    "eco_elig = eco_elig[eco_elig['oc1'].notna()]\n"
   ]
  },
  {
   "cell_type": "markdown",
   "id": "8393c7e8",
   "metadata": {},
   "source": [
    "### Add column for calculation of difference of scores"
   ]
  },
  {
   "cell_type": "code",
   "execution_count": null,
   "id": "d87cf930",
   "metadata": {},
   "outputs": [],
   "source": [
    "eco_elig['social_change'] = eco_elig['exit_social'] - eco_elig['ent_social']\n",
    "eco_elig['knowledge_change'] = eco_elig['exit_knowledge'] - eco_elig['ent_knowledge']\n",
    "eco_elig['app_action_change'] = eco_elig['exit_app_action'] - eco_elig['ent_app_action'] "
   ]
  },
  {
   "cell_type": "code",
   "execution_count": null,
   "id": "5387d3c5",
   "metadata": {},
   "outputs": [],
   "source": [
    "print(eco_elig[['ent_social', 'exit_social', 'social_change']].head(20))"
   ]
  },
  {
   "cell_type": "code",
   "execution_count": null,
   "id": "f4a831e1",
   "metadata": {},
   "outputs": [],
   "source": [
    "eco_elig.info()"
   ]
  },
  {
   "cell_type": "code",
   "execution_count": null,
   "id": "926e2f93",
   "metadata": {},
   "outputs": [],
   "source": [
    "eco_change_cat = eco_elig[['child_id', 'social_change', 'knowledge_change', 'app_action_change','elig_cat']]"
   ]
  },
  {
   "cell_type": "code",
   "execution_count": null,
   "id": "e5f0f907",
   "metadata": {},
   "outputs": [],
   "source": [
    "eco_change_cat.value_counts('elig_cat').count"
   ]
  },
  {
   "cell_type": "code",
   "execution_count": null,
   "id": "f82807dc",
   "metadata": {
    "scrolled": true
   },
   "outputs": [],
   "source": [
    "eco_change_cat.info()"
   ]
  },
  {
   "cell_type": "code",
   "execution_count": null,
   "id": "a7ae8d17",
   "metadata": {},
   "outputs": [],
   "source": [
    "eco_change_cat[['social_change', 'knowledge_change', 'app_action_change']].plot(kind = 'bar')"
   ]
  },
  {
   "cell_type": "markdown",
   "id": "c28dd538",
   "metadata": {},
   "source": [
    "### Verify data"
   ]
  },
  {
   "cell_type": "code",
   "execution_count": null,
   "id": "88afb127",
   "metadata": {
    "scrolled": true
   },
   "outputs": [],
   "source": [
    "#elig_cat_count = eco_elig.groupby(['elig_cat'])['elig_cat'].values_count()\n",
    "#elig_cat_count = eco_elig['elig_cat'].value_counts()[:20]\n",
    "eco_elig.groupby(\"elig_cat\", as_index=False).count()"
   ]
  },
  {
   "cell_type": "code",
   "execution_count": null,
   "id": "d12d0b0b",
   "metadata": {},
   "outputs": [],
   "source": [
    "eco_elig.groupby(['child_id'])['child_id'].count()\n",
    "# There are 67610 unique child_id's."
   ]
  },
  {
   "cell_type": "code",
   "execution_count": null,
   "id": "ea526096",
   "metadata": {},
   "outputs": [],
   "source": [
    "eco_elig.groupby(['district'])['district'].count()"
   ]
  },
  {
   "cell_type": "markdown",
   "id": "dc2519c2",
   "metadata": {},
   "source": [
    "### Graph elig_cat and day_count"
   ]
  },
  {
   "cell_type": "code",
   "execution_count": null,
   "id": "aaf04b95",
   "metadata": {},
   "outputs": [],
   "source": [
    "eco_elig['elig_cat'].value_counts(dropna = False).plot(kind = 'bar')"
   ]
  },
  {
   "cell_type": "code",
   "execution_count": null,
   "id": "c9b3adb6",
   "metadata": {},
   "outputs": [],
   "source": [
    "ss = eco = pd.read_excel(\"../data/TEIS-NSS Project Data 10-2022.xlsx\",sheet_name=(\"Summary Statements\"), header = 2)"
   ]
  },
  {
   "cell_type": "code",
   "execution_count": null,
   "id": "898e5794",
   "metadata": {},
   "outputs": [],
   "source": [
    "ss.head(20)"
   ]
  }
 ],
 "metadata": {
  "kernelspec": {
   "display_name": "Python 3 (ipykernel)",
   "language": "python",
   "name": "python3"
  },
  "language_info": {
   "codemirror_mode": {
    "name": "ipython",
    "version": 3
   },
   "file_extension": ".py",
   "mimetype": "text/x-python",
   "name": "python",
   "nbconvert_exporter": "python",
   "pygments_lexer": "ipython3",
   "version": "3.9.2"
  }
 },
 "nbformat": 4,
 "nbformat_minor": 5
}
