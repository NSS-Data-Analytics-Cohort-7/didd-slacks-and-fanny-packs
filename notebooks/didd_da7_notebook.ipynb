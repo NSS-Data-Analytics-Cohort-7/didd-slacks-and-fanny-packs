{
 "cells": [
  {
   "cell_type": "code",
   "execution_count": null,
   "id": "b13fe9e5",
   "metadata": {},
   "outputs": [],
   "source": [
    "import pandas as pd\n",
    "import numpy as np\n",
    "import matplotlib.pyplot as plt\n",
    "import seaborn as sns"
   ]
  },
  {
   "cell_type": "code",
   "execution_count": null,
   "id": "2860d11e",
   "metadata": {},
   "outputs": [],
   "source": [
    "%matplotlib inline"
   ]
  },
  {
   "cell_type": "code",
   "execution_count": null,
   "id": "d29975c3",
   "metadata": {},
   "outputs": [],
   "source": [
    "eco_df = pd.read_excel('../data/TEIS-NSS Project Data 10-2022.xlsx',sheet_name=('ECO with Exit21-22'))\n",
    "elig_df = pd.read_excel('../data/TEIS-NSS Project Data 10-2022.xlsx',sheet_name=('Elig Timeline Rpt 2018-2022'))"
   ]
  },
  {
   "cell_type": "code",
   "execution_count": null,
   "id": "7f83f8c6",
   "metadata": {},
   "outputs": [],
   "source": [
    "eco_df.head()"
   ]
  },
  {
   "cell_type": "code",
   "execution_count": null,
   "id": "fddc9b19",
   "metadata": {},
   "outputs": [],
   "source": [
    "eco_df.drop(eco_df.columns.difference(['CHILD_ID', 'Ent SOCIAL_SCALE', 'Ent KNOWLEDGE_SCALE', 'Ent APPROPRIATE_ACTION_SCALE', 'Exit SOCIAL_SCALE', 'Exit KNOWLEDGE_SCALE', 'Exit APPROPRIATE_ACTION_SCALE', 'OC1 - a', 'OC1 - b', 'OC1 - c', 'OC1 - d', 'OC1 - e', 'OC1 Data Check', 'OC2 - a', 'OC2 - b', 'OC2 - c', 'OC2 - d', 'OC2 - e', 'OC2 Data Check', 'OC3 - a', 'OC3 - b', 'OC3 - c', 'OC3 - d', 'OC3 - e', 'OC3 Data Check']), axis=1, inplace=True)\n",
    "display(eco_df)"
   ]
  },
  {
   "cell_type": "code",
   "execution_count": null,
   "id": "fa2628f7",
   "metadata": {},
   "outputs": [],
   "source": [
    "elig_df.head()"
   ]
  },
  {
   "cell_type": "code",
   "execution_count": null,
   "id": "cd1dd866",
   "metadata": {},
   "outputs": [],
   "source": [
    "elig_df.drop(elig_df.columns.difference(['Child ID', 'Init. Elig. Category']), axis=1, inplace=True)\n",
    "print(elig_df)"
   ]
  },
  {
   "cell_type": "code",
   "execution_count": null,
   "id": "f49fd98c",
   "metadata": {},
   "outputs": [],
   "source": [
    "eco_df = eco_df[eco_df['OC2 Data Check'] != 0]\n",
    "display(eco_df)"
   ]
  },
  {
   "cell_type": "code",
   "execution_count": null,
   "id": "640c7876",
   "metadata": {},
   "outputs": [],
   "source": [
    "eco_df = eco_df[eco_df['OC2 Data Check'].notna()]\n",
    "display(eco_df)"
   ]
  },
  {
   "cell_type": "code",
   "execution_count": null,
   "id": "761894d5",
   "metadata": {},
   "outputs": [],
   "source": [
    "eco_df.rename({'CHILD_ID':'child_id', 'Ent SOCIAL_SCALE':'ent_social', 'Ent KNOWLEDGE_SCALE':'ent_knowledge', 'Ent APPROPRIATE_ACTION_SCALE':'ent_app_action', 'Exit SOCIAL_SCALE':'exit_social', 'Exit KNOWLEDGE_SCALE':'exit_knowledge', 'Exit APPROPRIATE_ACTION_SCALE':'exit_app_action', 'OC1 - a':'oc1a', 'OC1 - b':'oc1b', 'OC1 - c':'oc1c', 'OC1 - d':'oc1d', 'OC1 - e':'oc1e', 'OC1 Data Check':'oc1_data_check', 'OC2 - a':'oc2a', 'OC2 - b':'oc2b', 'OC2 - c':'oc2c', 'OC2 - d':'oc2d', 'OC2 - e':'oc2e', 'OC2 Data Check':'oc2_data_check', 'OC3 - a':'oc3a', 'OC3 - b':'oc3b', 'OC3 - c':'oc3c', 'OC3 - d':'oc3d', 'OC3 - e':'oc3e', 'OC3 Data Check':'oc3_data_check'}, axis=1, inplace=True)"
   ]
  },
  {
   "cell_type": "code",
   "execution_count": null,
   "id": "1af764fe",
   "metadata": {},
   "outputs": [],
   "source": [
    "elig_df.rename({'Child ID':'child_id', 'Init. Elig. Category':'init_elig_category'}, axis=1, inplace=True)"
   ]
  },
  {
   "cell_type": "code",
   "execution_count": null,
   "id": "6bae684b",
   "metadata": {},
   "outputs": [],
   "source": [
    "eco_elig_combined = pd.merge(eco_df,elig_df, on='child_id')\n",
    "eco_elig_combined.info()"
   ]
  },
  {
   "cell_type": "code",
   "execution_count": null,
   "id": "9177a4f0",
   "metadata": {
    "scrolled": true
   },
   "outputs": [],
   "source": [
    "diff_by_elig = eco_elig_combined[['ent_social', 'ent_knowledge', 'ent_app_action', 'exit_social', 'exit_knowledge', 'exit_app_action', 'init_elig_category']]\n",
    "diff_by_elig['social_diff'] = diff_by_elig['exit_social'] - diff_by_elig['ent_social']\n",
    "diff_by_elig['knowledge_diff'] = diff_by_elig['exit_knowledge'] - diff_by_elig['ent_knowledge']\n",
    "diff_by_elig['app_action_diff'] = diff_by_elig['exit_app_action'] - diff_by_elig['ent_app_action']\n",
    "diff_by_elig = diff_by_elig[['social_diff', 'knowledge_diff', 'app_action_diff', 'init_elig_category']]\n",
    "display(diff_by_elig)"
   ]
  },
  {
   "cell_type": "markdown",
   "id": "92deb9e7",
   "metadata": {},
   "source": [
    "## Sum improvement on all fronts based on elig category"
   ]
  },
  {
   "cell_type": "code",
   "execution_count": null,
   "id": "3daa8dbf",
   "metadata": {},
   "outputs": [],
   "source": [
    "sum_improvements = diff_by_elig.groupby('init_elig_category').sum()\n",
    "display(sum_improvements)"
   ]
  },
  {
   "cell_type": "code",
   "execution_count": null,
   "id": "67c62bec",
   "metadata": {},
   "outputs": [],
   "source": []
  },
  {
   "cell_type": "code",
   "execution_count": null,
   "id": "0e9274d1",
   "metadata": {},
   "outputs": [],
   "source": []
  }
 ],
 "metadata": {
  "kernelspec": {
   "display_name": "Python 3 (ipykernel)",
   "language": "python",
   "name": "python3"
  },
  "language_info": {
   "codemirror_mode": {
    "name": "ipython",
    "version": 3
   },
   "file_extension": ".py",
   "mimetype": "text/x-python",
   "name": "python",
   "nbconvert_exporter": "python",
   "pygments_lexer": "ipython3",
   "version": "3.9.12"
  }
 },
 "nbformat": 4,
 "nbformat_minor": 5
}
