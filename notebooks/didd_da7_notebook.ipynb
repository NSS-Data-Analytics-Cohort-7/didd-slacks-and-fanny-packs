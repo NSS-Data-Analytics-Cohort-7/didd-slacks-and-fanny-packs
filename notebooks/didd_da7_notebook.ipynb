{
 "cells": [
  {
   "cell_type": "code",
   "execution_count": null,
   "id": "b13fe9e5",
   "metadata": {},
   "outputs": [],
   "source": [
    "import pandas as pd\n",
    "import numpy as np\n",
    "import matplotlib.pyplot as plt\n",
    "import seaborn as sns"
   ]
  },
  {
   "cell_type": "code",
   "execution_count": null,
   "id": "2860d11e",
   "metadata": {},
   "outputs": [],
   "source": [
    "%matplotlib inline"
   ]
  },
  {
   "cell_type": "code",
   "execution_count": null,
   "id": "eb7d0dcf",
   "metadata": {},
   "outputs": [],
   "source": [
    "def summ(num1, *args):\n",
    "    total = num1\n",
    "    for num in args:\n",
    "        total = total + num\n",
    "    return total"
   ]
  },
  {
   "cell_type": "code",
   "execution_count": null,
   "id": "d29975c3",
   "metadata": {},
   "outputs": [],
   "source": [
    "eco_df = pd.read_excel('../data/TEIS-NSS Project Data 10-2022.xlsx',sheet_name=('ECO with Exit21-22'))\n",
    "elig_df = pd.read_excel('../data/TEIS-NSS Project Data 10-2022.xlsx',sheet_name=('Elig Timeline Rpt 2018-2022'))"
   ]
  },
  {
   "cell_type": "code",
   "execution_count": null,
   "id": "7f83f8c6",
   "metadata": {},
   "outputs": [],
   "source": [
    "eco_df.head()"
   ]
  },
  {
   "cell_type": "code",
   "execution_count": null,
   "id": "fddc9b19",
   "metadata": {},
   "outputs": [],
   "source": [
    "eco_df.drop(eco_df.columns.difference(['CHILD_ID', 'Ent SOCIAL_SCALE', 'Ent KNOWLEDGE_SCALE', 'Ent APPROPRIATE_ACTION_SCALE', 'Exit SOCIAL_SCALE', 'Exit KNOWLEDGE_SCALE', 'Exit APPROPRIATE_ACTION_SCALE', 'OC1 - a', 'OC1 - b', 'OC1 - c', 'OC1 - d', 'OC1 - e', 'OC1 Data Check', 'OC2 - a', 'OC2 - b', 'OC2 - c', 'OC2 - d', 'OC2 - e', 'OC2 Data Check', 'OC3 - a', 'OC3 - b', 'OC3 - c', 'OC3 - d', 'OC3 - e', 'OC3 Data Check']), axis=1, inplace=True)\n",
    "display(eco_df)"
   ]
  },
  {
   "cell_type": "code",
   "execution_count": null,
   "id": "fa2628f7",
   "metadata": {},
   "outputs": [],
   "source": [
    "elig_df.head()"
   ]
  },
  {
   "cell_type": "code",
   "execution_count": null,
   "id": "cd1dd866",
   "metadata": {},
   "outputs": [],
   "source": [
    "elig_df.drop(elig_df.columns.difference(['Child ID', 'Init. Elig. Category']), axis=1, inplace=True)\n",
    "print(elig_df)"
   ]
  },
  {
   "cell_type": "code",
   "execution_count": null,
   "id": "f49fd98c",
   "metadata": {},
   "outputs": [],
   "source": [
    "eco_df = eco_df[eco_df['OC2 Data Check'] != 0]\n",
    "display(eco_df)"
   ]
  },
  {
   "cell_type": "code",
   "execution_count": null,
   "id": "640c7876",
   "metadata": {},
   "outputs": [],
   "source": [
    "eco_df = eco_df[eco_df['OC2 Data Check'].notna()]\n",
    "display(eco_df)"
   ]
  },
  {
   "cell_type": "code",
   "execution_count": null,
   "id": "761894d5",
   "metadata": {},
   "outputs": [],
   "source": [
    "eco_df.rename({'CHILD_ID':'child_id', 'Ent SOCIAL_SCALE':'ent_social', 'Ent KNOWLEDGE_SCALE':'ent_knowledge', 'Ent APPROPRIATE_ACTION_SCALE':'ent_app_action', 'Exit SOCIAL_SCALE':'exit_social', 'Exit KNOWLEDGE_SCALE':'exit_knowledge', 'Exit APPROPRIATE_ACTION_SCALE':'exit_app_action', 'OC1 - a':'oc1a', 'OC1 - b':'oc1b', 'OC1 - c':'oc1c', 'OC1 - d':'oc1d', 'OC1 - e':'oc1e', 'OC1 Data Check':'oc1_data_check', 'OC2 - a':'oc2a', 'OC2 - b':'oc2b', 'OC2 - c':'oc2c', 'OC2 - d':'oc2d', 'OC2 - e':'oc2e', 'OC2 Data Check':'oc2_data_check', 'OC3 - a':'oc3a', 'OC3 - b':'oc3b', 'OC3 - c':'oc3c', 'OC3 - d':'oc3d', 'OC3 - e':'oc3e', 'OC3 Data Check':'oc3_data_check'}, axis=1, inplace=True)"
   ]
  },
  {
   "cell_type": "code",
   "execution_count": null,
   "id": "1af764fe",
   "metadata": {},
   "outputs": [],
   "source": [
    "elig_df.rename({'Child ID':'child_id', 'Init. Elig. Category':'init_elig_category'}, axis=1, inplace=True)"
   ]
  },
  {
   "cell_type": "code",
   "execution_count": null,
   "id": "6bae684b",
   "metadata": {},
   "outputs": [],
   "source": [
    "eco_elig_combined = pd.merge(eco_df,elig_df, on='child_id')\n",
    "eco_elig_combined.info()"
   ]
  },
  {
   "cell_type": "code",
   "execution_count": null,
   "id": "9177a4f0",
   "metadata": {
    "scrolled": true
   },
   "outputs": [],
   "source": [
    "diff_by_elig = eco_elig_combined[['ent_social', 'ent_knowledge', 'ent_app_action', 'exit_social', 'exit_knowledge', 'exit_app_action', 'init_elig_category']]\n",
    "diff_by_elig['social_diff'] = diff_by_elig['exit_social'] - diff_by_elig['ent_social']\n",
    "diff_by_elig['knowledge_diff'] = diff_by_elig['exit_knowledge'] - diff_by_elig['ent_knowledge']\n",
    "diff_by_elig['app_action_diff'] = diff_by_elig['exit_app_action'] - diff_by_elig['ent_app_action']\n",
    "diff_by_elig = diff_by_elig[['social_diff', 'knowledge_diff', 'app_action_diff', 'init_elig_category']]\n",
    "display(diff_by_elig)"
   ]
  },
  {
   "cell_type": "markdown",
   "id": "137b3ccc",
   "metadata": {},
   "source": [
    "## Sum improvement on all fronts based on elig category"
   ]
  },
  {
   "cell_type": "code",
   "execution_count": null,
   "id": "df7248d9",
   "metadata": {},
   "outputs": [],
   "source": [
    "sum_improvement = diff_by_elig.groupby('init_elig_category').sum()\n",
    "sum_improvement['category_count'] = diff_by_elig.groupby(['init_elig_category'])['init_elig_category'].count()\n",
    "display(sum_improvement)"
   ]
  },
  {
   "cell_type": "code",
   "execution_count": null,
   "id": "2ae73609",
   "metadata": {},
   "outputs": [],
   "source": []
  },
  {
   "cell_type": "markdown",
   "id": "0e6a34a9",
   "metadata": {},
   "source": [
    "## Avg improvement on all fronts based on elig category"
   ]
  },
  {
   "cell_type": "code",
   "execution_count": null,
   "id": "739733bc",
   "metadata": {},
   "outputs": [],
   "source": [
    "avg_improvement = diff_by_elig.groupby('init_elig_category').mean()\n",
    "display(avg_improvement)"
   ]
  },
  {
   "cell_type": "code",
   "execution_count": null,
   "id": "6d7ce255",
   "metadata": {},
   "outputs": [],
   "source": []
  },
  {
   "cell_type": "markdown",
   "id": "9caefa5e",
   "metadata": {},
   "source": [
    "## Probability of applicant improving "
   ]
  },
  {
   "cell_type": "markdown",
   "id": "623963f5",
   "metadata": {},
   "source": [
    "#### Counts of outcomes for the social category. "
   ]
  },
  {
   "cell_type": "code",
   "execution_count": null,
   "id": "f1860a9d",
   "metadata": {},
   "outputs": [],
   "source": [
    "social_outcomes = diff_by_elig['social_diff']\n",
    "social_gain = 0\n",
    "social_same = 0\n",
    "social_loss = 0\n",
    "for social_outcomes['social_diff'] in social_outcomes:\n",
    "    if social_outcomes['social_diff'] > 0:\n",
    "        social_gain += 1\n",
    "    elif social_outcomes['social_diff'] == 0:\n",
    "        social_same += 1\n",
    "    else:\n",
    "        social_loss += 1"
   ]
  },
  {
   "cell_type": "markdown",
   "id": "7fd7e929",
   "metadata": {},
   "source": [
    "#### Counts of outcomes for the knowledge category."
   ]
  },
  {
   "cell_type": "code",
   "execution_count": null,
   "id": "a29d530c",
   "metadata": {},
   "outputs": [],
   "source": [
    "knowledge_outcomes = diff_by_elig['knowledge_diff']\n",
    "knowledge_gain = 0\n",
    "knowledge_same = 0\n",
    "knowledge_loss = 0\n",
    "for knowledge_outcomes['knowledge_diff'] in knowledge_outcomes:\n",
    "    if knowledge_outcomes['knowledge_diff'] > 0:\n",
    "        knowledge_gain += 1\n",
    "    elif knowledge_outcomes['knowledge_diff'] == 0:\n",
    "        knowledge_same += 1\n",
    "    else:\n",
    "        knowledge_loss += 1"
   ]
  },
  {
   "cell_type": "markdown",
   "id": "9a886d77",
   "metadata": {},
   "source": [
    "#### Counts of outcomes for the app action category."
   ]
  },
  {
   "cell_type": "code",
   "execution_count": null,
   "id": "d26e06e9",
   "metadata": {},
   "outputs": [],
   "source": [
    "app_action_outcomes = diff_by_elig['app_action_diff']\n",
    "action_gain = 0\n",
    "action_same = 0\n",
    "action_loss = 0\n",
    "for app_action_outcomes['app_action_diff'] in app_action_outcomes:\n",
    "    if app_action_outcomes['app_action_diff'] > 0:\n",
    "        action_gain += 1\n",
    "    elif app_action_outcomes['app_action_diff'] == 0:\n",
    "        action_same += 1\n",
    "    else:\n",
    "        action_loss += 1"
   ]
  },
  {
   "cell_type": "markdown",
   "id": "d02d6048",
   "metadata": {},
   "source": [
    "#### Data frame with the outcome counts."
   ]
  },
  {
   "cell_type": "code",
   "execution_count": null,
   "id": "d7a33924",
   "metadata": {},
   "outputs": [],
   "source": [
    "outcome_data = {'outcome' : ['gain', 'stayed the same', 'loss'], 'social' : [social_gain, social_same, social_loss], 'knowledge' : [knowledge_gain, knowledge_same, knowledge_loss], 'app_action' : [action_gain, action_same, action_loss]}\n",
    "outcome_counts = pd.DataFrame(outcome_data)\n",
    "display(outcome_counts)"
   ]
  },
  {
   "cell_type": "markdown",
   "id": "fa7b7059",
   "metadata": {},
   "source": [
    "#### Data frame with the probability of each outcome."
   ]
  },
  {
   "cell_type": "code",
   "execution_count": null,
   "id": "6bda923e",
   "metadata": {},
   "outputs": [],
   "source": [
    "outcome_probability_data = {'outcome' : ['gain', 'stay the same', 'loss'], 'social_probability' : [social_gain/summ(social_gain,social_loss,social_same), social_same/summ(social_gain,social_loss,social_same), social_loss/summ(social_gain,social_loss,social_same)], 'knowledge_probability' : [knowledge_gain/summ(knowledge_gain,knowledge_loss,knowledge_same), knowledge_same/summ(knowledge_gain,knowledge_loss,knowledge_same), knowledge_loss/summ(knowledge_gain,knowledge_loss,knowledge_same)], 'app_action_probability' : [action_gain/summ(action_gain,action_loss,action_same), action_same/summ(action_gain,action_loss,action_same), action_loss/summ(action_gain,action_loss,action_same)]}\n",
    "outcome_probability = pd.DataFrame(outcome_probability_data)\n",
    "display(outcome_probability)"
   ]
  },
  {
   "cell_type": "markdown",
   "id": "056ed99e",
   "metadata": {},
   "source": [
    "## Probability of applicant improving based on the elig category"
   ]
  },
  {
   "cell_type": "markdown",
   "id": "2bc67940",
   "metadata": {},
   "source": [
    "### Developmental Evaluation:"
   ]
  },
  {
   "cell_type": "code",
   "execution_count": null,
   "id": "805d97a9",
   "metadata": {
    "scrolled": true
   },
   "outputs": [],
   "source": [
    "diff_by_dev_eval = diff_by_elig[(diff_by_elig.init_elig_category == 'Developmental Evaluation')]\n",
    "display(diff_by_dev_eval)"
   ]
  },
  {
   "cell_type": "markdown",
   "id": "1bf961fe",
   "metadata": {},
   "source": [
    "#### Counts of social outcomes for the Developmental Evaluation category."
   ]
  },
  {
   "cell_type": "code",
   "execution_count": null,
   "id": "49b08e82",
   "metadata": {},
   "outputs": [],
   "source": [
    "social_outcomes_de = diff_by_dev_eval['social_diff']\n",
    "social_gain_de = 0\n",
    "social_same_de = 0\n",
    "social_loss_de = 0\n",
    "for social_outcomes_de['social_diff'] in social_outcomes_de:\n",
    "    if social_outcomes_de['social_diff'] > 0:\n",
    "        social_gain_de += 1\n",
    "    elif social_outcomes_de['social_diff'] == 0:\n",
    "        social_same_de += 1\n",
    "    else:\n",
    "        social_loss_de += 1"
   ]
  },
  {
   "cell_type": "markdown",
   "id": "d70710fc",
   "metadata": {},
   "source": [
    "#### Counts of knowledge outcomes for the Developmental Evaluation category."
   ]
  },
  {
   "cell_type": "code",
   "execution_count": null,
   "id": "802e49a8",
   "metadata": {},
   "outputs": [],
   "source": [
    "knowledge_outcomes_de = diff_by_dev_eval['knowledge_diff']\n",
    "knowledge_gain_de = 0\n",
    "knowledge_same_de = 0\n",
    "knowledge_loss_de = 0\n",
    "for knowledge_outcomes_de['knowledge_diff'] in knowledge_outcomes_de:\n",
    "    if knowledge_outcomes_de['knowledge_diff'] > 0:\n",
    "        knowledge_gain_de += 1\n",
    "    elif knowledge_outcomes_de['knowledge_diff'] == 0:\n",
    "        knowledge_same_de += 1\n",
    "    else:\n",
    "        knowledge_loss_de += 1"
   ]
  },
  {
   "cell_type": "markdown",
   "id": "52170697",
   "metadata": {},
   "source": [
    "#### Counts of app action outcomes by the Developmental Evaluation category."
   ]
  },
  {
   "cell_type": "code",
   "execution_count": null,
   "id": "14ec84a7",
   "metadata": {},
   "outputs": [],
   "source": [
    "app_action_outcomes_de = diff_by_dev_eval['app_action_diff']\n",
    "action_gain_de = 0\n",
    "action_same_de = 0\n",
    "action_loss_de = 0\n",
    "for app_action_outcomes_de['app_action_diff'] in app_action_outcomes_de:\n",
    "    if app_action_outcomes_de['app_action_diff'] > 0:\n",
    "        action_gain_de += 1\n",
    "    elif app_action_outcomes_de['app_action_diff'] == 0:\n",
    "        action_same_de += 1\n",
    "    else:\n",
    "        action_loss_de += 1"
   ]
  },
  {
   "cell_type": "markdown",
   "id": "2d97319b",
   "metadata": {},
   "source": [
    "#### Data frame with outcome counts for Developmental Evaluation."
   ]
  },
  {
   "cell_type": "code",
   "execution_count": null,
   "id": "e1c793c8",
   "metadata": {},
   "outputs": [],
   "source": [
    "outcome_data_de = {'outcome' : ['gain', 'stayed the same', 'loss'], 'social' : [social_gain_de, social_same_de, social_loss_de], 'knowledge' : [knowledge_gain_de, knowledge_same_de, knowledge_loss_de], 'app_action' : [action_gain_de, action_same_de, action_loss_de]}\n",
    "dev_eval_counts = pd.DataFrame(outcome_data_de)\n",
    "display(dev_eval_counts)"
   ]
  },
  {
   "cell_type": "markdown",
   "id": "e233b5bd",
   "metadata": {},
   "source": [
    "#### Data frame with the probability for each outcome in the Developmental Evaluation category."
   ]
  },
  {
   "cell_type": "code",
   "execution_count": null,
   "id": "20d775d8",
   "metadata": {
    "scrolled": true
   },
   "outputs": [],
   "source": [
    "outcome_probability_data_de = {'outcome' : ['gain', 'stay the same', 'loss'], 'social_probability' : [social_gain_de/summ(social_gain_de,social_loss_de,social_same_de), social_same_de/summ(social_gain_de,social_loss_de,social_same_de), social_loss_de/summ(social_gain_de,social_loss_de,social_same_de)], 'knowledge_probability' : [knowledge_gain_de/summ(knowledge_gain_de,knowledge_loss_de,knowledge_same_de), knowledge_same_de/summ(knowledge_gain_de,knowledge_loss_de,knowledge_same_de), knowledge_loss_de/summ(knowledge_gain_de,knowledge_loss_de,knowledge_same_de)], 'app_action_probability' : [action_gain_de/summ(action_gain_de,action_loss_de,action_same_de), action_same_de/summ(action_gain_de,action_loss_de,action_same_de), action_loss_de/summ(action_gain_de,action_loss_de,action_same_de)]}\n",
    "dev_eval_probability = pd.DataFrame(outcome_probability_data_de)\n",
    "display(dev_eval_probability)"
   ]
  },
  {
   "cell_type": "markdown",
   "id": "45a4cd8b",
   "metadata": {},
   "source": [
    "### Diagnosed Condition:"
   ]
  },
  {
   "cell_type": "code",
   "execution_count": null,
   "id": "b107ab21",
   "metadata": {},
   "outputs": [],
   "source": [
    "diff_by_dia_con = diff_by_elig[(diff_by_elig.init_elig_category == 'Diagnosed Condition')]\n",
    "display(diff_by_dia_con)"
   ]
  },
  {
   "cell_type": "markdown",
   "id": "0533a49d",
   "metadata": {},
   "source": [
    "#### Counts of social outcomes for the Diagnosed Condition category."
   ]
  },
  {
   "cell_type": "code",
   "execution_count": null,
   "id": "8d686d2a",
   "metadata": {},
   "outputs": [],
   "source": [
    "social_outcomes_dc = diff_by_dia_con['social_diff']\n",
    "social_gain_dc = 0\n",
    "social_same_dc = 0\n",
    "social_loss_dc = 0\n",
    "for social_outcomes_dc['social_diff'] in social_outcomes_dc:\n",
    "    if social_outcomes_dc['social_diff'] > 0:\n",
    "        social_gain_dc += 1\n",
    "    elif social_outcomes_dc['social_diff'] == 0:\n",
    "        social_same_dc += 1\n",
    "    else:\n",
    "        social_loss_dc += 1"
   ]
  },
  {
   "cell_type": "markdown",
   "id": "4bfb1b58",
   "metadata": {},
   "source": [
    "#### Counts of knowledge outcomes for the Diagnosed Condition category."
   ]
  },
  {
   "cell_type": "code",
   "execution_count": null,
   "id": "921bb896",
   "metadata": {},
   "outputs": [],
   "source": [
    "knowledge_outcomes_dc = diff_by_dia_con['knowledge_diff']\n",
    "knowledge_gain_dc = 0\n",
    "knowledge_same_dc = 0\n",
    "knowledge_loss_dc = 0\n",
    "for knowledge_outcomes_dc['knowledge_diff'] in knowledge_outcomes_dc:\n",
    "    if knowledge_outcomes_dc['knowledge_diff'] > 0:\n",
    "        knowledge_gain_dc += 1\n",
    "    elif knowledge_outcomes_dc['knowledge_diff'] == 0:\n",
    "        knowledge_same_dc += 1\n",
    "    else:\n",
    "        knowledge_loss_dc += 1"
   ]
  },
  {
   "cell_type": "markdown",
   "id": "5996f010",
   "metadata": {},
   "source": [
    "#### Counts of app action outcomes for the Diagnosed Condition category."
   ]
  },
  {
   "cell_type": "code",
   "execution_count": null,
   "id": "6993c273",
   "metadata": {},
   "outputs": [],
   "source": [
    "app_action_outcomes_dc = diff_by_dia_con['app_action_diff']\n",
    "action_gain_dc = 0\n",
    "action_same_dc = 0\n",
    "action_loss_dc = 0\n",
    "for app_action_outcomes_dc['app_action_diff'] in app_action_outcomes_dc:\n",
    "    if app_action_outcomes_dc['app_action_diff'] > 0:\n",
    "        action_gain_dc += 1\n",
    "    elif app_action_outcomes_dc['app_action_diff'] == 0:\n",
    "        action_same_dc += 1\n",
    "    else:\n",
    "        action_loss_dc += 1"
   ]
  },
  {
   "cell_type": "markdown",
   "id": "815da432",
   "metadata": {},
   "source": [
    "#### Data frame with the outcome counts for Diagnosed Condition."
   ]
  },
  {
   "cell_type": "code",
   "execution_count": null,
   "id": "c894356f",
   "metadata": {},
   "outputs": [],
   "source": [
    "outcome_data_dc = {'outcome' : ['gain', 'stayed the same', 'loss'], 'social' : [social_gain_dc, social_same_dc, social_loss_dc], 'knowledge' : [knowledge_gain_dc, knowledge_same_dc, knowledge_loss_dc], 'app_action' : [action_gain_dc, action_same_dc, action_loss_dc]}\n",
    "dia_con_counts = pd.DataFrame(outcome_data_dc)\n",
    "display(dia_con_counts)"
   ]
  },
  {
   "cell_type": "markdown",
   "id": "ad28d5ea",
   "metadata": {},
   "source": [
    "#### Data frame with the outcome probabilities in the Diagnosed Condition category."
   ]
  },
  {
   "cell_type": "code",
   "execution_count": null,
   "id": "3b8a4f81",
   "metadata": {},
   "outputs": [],
   "source": [
    "outcome_probability_data_dc = {'outcome' : ['gain', 'stay the same', 'loss'], 'social_probability' : [social_gain_dc/summ(social_gain_dc,social_loss_dc,social_same_dc), social_same_dc/summ(social_gain_dc,social_loss_dc,social_same_dc), social_loss_dc/summ(social_gain_dc,social_loss_dc,social_same_dc)], 'knowledge_probability' : [knowledge_gain_dc/summ(knowledge_gain_dc,knowledge_loss_dc,knowledge_same_dc), knowledge_same_dc/summ(knowledge_gain_dc,knowledge_loss_dc,knowledge_same_dc), knowledge_loss_dc/summ(knowledge_gain_dc,knowledge_loss_dc,knowledge_same_dc)], 'app_action_probability' : [action_gain_dc/summ(action_gain_dc,action_loss_dc,action_same_dc), action_same_dc/summ(action_gain_dc,action_loss_dc,action_same_dc), action_loss_dc/summ(action_gain_dc,action_loss_dc,action_same_dc)]}\n",
    "dia_con_probability = pd.DataFrame(outcome_probability_data_dc)\n",
    "display(dia_con_probability)"
   ]
  },
  {
   "cell_type": "markdown",
   "id": "77dd6d26",
   "metadata": {},
   "source": [
    "### Both, Developmental Evaluation & Diagnosed Condition:"
   ]
  },
  {
   "cell_type": "code",
   "execution_count": null,
   "id": "034f7fb8",
   "metadata": {},
   "outputs": [],
   "source": [
    "diff_by_both = diff_by_elig[(diff_by_elig.init_elig_category == 'Diagnosed Condition, Developmental Evaluation')]\n",
    "display(diff_by_both)"
   ]
  },
  {
   "cell_type": "markdown",
   "id": "39e0299f",
   "metadata": {},
   "source": [
    "#### Counts of social outcomes for the \"both\" category."
   ]
  },
  {
   "cell_type": "code",
   "execution_count": null,
   "id": "7556398c",
   "metadata": {},
   "outputs": [],
   "source": [
    "social_outcomes_b = diff_by_both['social_diff']\n",
    "social_gain_b = 0\n",
    "social_same_b = 0\n",
    "social_loss_b = 0\n",
    "for social_outcomes_b['social_diff'] in social_outcomes_b:\n",
    "    if social_outcomes_b['social_diff'] > 0:\n",
    "        social_gain_b += 1\n",
    "    elif social_outcomes_b['social_diff'] == 0:\n",
    "        social_same_b += 1\n",
    "    else:\n",
    "        social_loss_b += 1"
   ]
  },
  {
   "cell_type": "markdown",
   "id": "9052b281",
   "metadata": {},
   "source": [
    "#### Counts of knowledge outcomes for the \"both\" category."
   ]
  },
  {
   "cell_type": "code",
   "execution_count": null,
   "id": "ebcea907",
   "metadata": {},
   "outputs": [],
   "source": [
    "knowledge_outcomes_b = diff_by_both['knowledge_diff']\n",
    "knowledge_gain_b = 0\n",
    "knowledge_same_b = 0\n",
    "knowledge_loss_b = 0\n",
    "for knowledge_outcomes_b['knowledge_diff'] in knowledge_outcomes_b:\n",
    "    if knowledge_outcomes_b['knowledge_diff'] > 0:\n",
    "        knowledge_gain_b += 1\n",
    "    elif knowledge_outcomes_b['knowledge_diff'] == 0:\n",
    "        knowledge_same_b += 1\n",
    "    else:\n",
    "        knowledge_loss_b += 1"
   ]
  },
  {
   "cell_type": "markdown",
   "id": "c1a92ece",
   "metadata": {},
   "source": [
    "#### Counts of app action outcomes for the \"both\" category."
   ]
  },
  {
   "cell_type": "code",
   "execution_count": null,
   "id": "018167ca",
   "metadata": {},
   "outputs": [],
   "source": [
    "app_action_outcomes_b = diff_by_both['app_action_diff']\n",
    "action_gain_b = 0\n",
    "action_same_b = 0\n",
    "action_loss_b = 0\n",
    "for app_action_outcomes_b['app_action_diff'] in app_action_outcomes_b:\n",
    "    if app_action_outcomes_b['app_action_diff'] > 0:\n",
    "        action_gain_b += 1\n",
    "    elif app_action_outcomes_b['app_action_diff'] == 0:\n",
    "        action_same_b += 1\n",
    "    else:\n",
    "        action_loss_b += 1"
   ]
  },
  {
   "cell_type": "markdown",
   "id": "cfcf5124",
   "metadata": {},
   "source": [
    "#### Data frame with outcome counts for the \"both\" category."
   ]
  },
  {
   "cell_type": "code",
   "execution_count": null,
   "id": "74779480",
   "metadata": {},
   "outputs": [],
   "source": [
    "outcome_data_b = {'outcome' : ['gain', 'stayed the same', 'loss'], 'social' : [social_gain_b, social_same_b, social_loss_b], 'knowledge' : [knowledge_gain_b, knowledge_same_b, knowledge_loss_b], 'app_action' : [action_gain_b, action_same_b, action_loss_b]}\n",
    "both_counts = pd.DataFrame(outcome_data_b)\n",
    "display(both_counts)"
   ]
  },
  {
   "cell_type": "markdown",
   "id": "85007c08",
   "metadata": {},
   "source": [
    "#### Data frame with the outcome probabilities for the \"both\" category."
   ]
  },
  {
   "cell_type": "code",
   "execution_count": null,
   "id": "ec58d9ff",
   "metadata": {},
   "outputs": [],
   "source": [
    "outcome_probability_data_b = {'outcome' : ['gain', 'stay the same', 'loss'], 'social_probability' : [social_gain_b/summ(social_gain_b,social_loss_b,social_same_b), social_same_b/summ(social_gain_b,social_loss_b,social_same_b), social_loss_b/summ(social_gain_b,social_loss_b,social_same_b)], 'knowledge_probability' : [knowledge_gain_b/summ(knowledge_gain_b,knowledge_loss_b,knowledge_same_b), knowledge_same_b/summ(knowledge_gain_b,knowledge_loss_b,knowledge_same_b), knowledge_loss_b/summ(knowledge_gain_b,knowledge_loss_b,knowledge_same_b)], 'app_action_probability' : [action_gain_b/summ(action_gain_b,action_loss_b,action_same_b), action_same_b/summ(action_gain_b,action_loss_b,action_same_b), action_loss_b/summ(action_gain_b,action_loss_b,action_same_b)]}\n",
    "both_probability = pd.DataFrame(outcome_probability_data_b)\n",
    "display(both_probability)"
   ]
  },
  {
   "cell_type": "markdown",
   "id": "e4707c7e",
   "metadata": {},
   "source": [
    "## Graphs for the collected data."
   ]
  },
  {
   "cell_type": "markdown",
   "id": "f4d8828a",
   "metadata": {},
   "source": [
    "#### Pie chart for Developmental Evaluation probabilities."
   ]
  },
  {
   "cell_type": "code",
   "execution_count": null,
   "id": "77820df6",
   "metadata": {},
   "outputs": [],
   "source": [
    "display(dev_eval_probability)"
   ]
  },
  {
   "cell_type": "code",
   "execution_count": null,
   "id": "9c92de7b",
   "metadata": {},
   "outputs": [],
   "source": [
    "plt.pie(dev_eval_probability.social_probability, labels = dev_eval_probability.outcome, autopct = '%.0f%%')"
   ]
  },
  {
   "cell_type": "code",
   "execution_count": null,
   "id": "f5453851",
   "metadata": {},
   "outputs": [],
   "source": []
  }
 ],
 "metadata": {
  "kernelspec": {
   "display_name": "Python 3 (ipykernel)",
   "language": "python",
   "name": "python3"
  },
  "language_info": {
   "codemirror_mode": {
    "name": "ipython",
    "version": 3
   },
   "file_extension": ".py",
   "mimetype": "text/x-python",
   "name": "python",
   "nbconvert_exporter": "python",
   "pygments_lexer": "ipython3",
   "version": "3.9.12"
  }
 },
 "nbformat": 4,
 "nbformat_minor": 5
}
