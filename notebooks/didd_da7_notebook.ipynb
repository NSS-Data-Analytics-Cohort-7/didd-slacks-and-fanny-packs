{
 "cells": [
  {
   "cell_type": "code",
   "execution_count": null,
   "id": "b13fe9e5",
   "metadata": {},
   "outputs": [],
   "source": [
    "import pandas as pd\n",
    "import numpy as np\n",
    "import matplotlib.pyplot as plt\n",
    "import seaborn as sns"
   ]
  },
  {
   "cell_type": "code",
   "execution_count": null,
   "id": "2860d11e",
   "metadata": {},
   "outputs": [],
   "source": [
    "%matplotlib inline"
   ]
  },
  {
   "cell_type": "code",
   "execution_count": null,
   "id": "997dda92",
   "metadata": {},
   "outputs": [],
   "source": [
    "def summ(num1, *args):\n",
    "    total = num1\n",
    "    for num in args:\n",
    "        total = total + num\n",
    "    return total"
   ]
  },
  {
   "cell_type": "code",
   "execution_count": null,
   "id": "d29975c3",
   "metadata": {},
   "outputs": [],
   "source": [
    "eco_df = pd.read_excel('../data/TEIS-NSS Project Data 10-2022.xlsx',sheet_name=('ECO with Exit21-22'))\n",
    "elig_df = pd.read_excel('../data/TEIS-NSS Project Data 10-2022.xlsx',sheet_name=('Elig Timeline Rpt 2018-2022'))"
   ]
  },
  {
   "cell_type": "code",
   "execution_count": null,
   "id": "7f83f8c6",
   "metadata": {},
   "outputs": [],
   "source": [
    "eco_df.head()"
   ]
  },
  {
   "cell_type": "code",
   "execution_count": null,
   "id": "fddc9b19",
   "metadata": {},
   "outputs": [],
   "source": [
    "eco_df.drop(eco_df.columns.difference(['CHILD_ID', 'Ent SOCIAL_SCALE', 'Ent KNOWLEDGE_SCALE', 'Ent APPROPRIATE_ACTION_SCALE', 'Exit SOCIAL_SCALE', 'Exit KNOWLEDGE_SCALE', 'Exit APPROPRIATE_ACTION_SCALE', 'OC1 - a', 'OC1 - b', 'OC1 - c', 'OC1 - d', 'OC1 - e', 'OC1 Data Check', 'OC2 - a', 'OC2 - b', 'OC2 - c', 'OC2 - d', 'OC2 - e', 'OC2 Data Check', 'OC3 - a', 'OC3 - b', 'OC3 - c', 'OC3 - d', 'OC3 - e', 'OC3 Data Check']), axis=1, inplace=True)\n",
    "display(eco_df)"
   ]
  },
  {
   "cell_type": "code",
   "execution_count": null,
   "id": "fa2628f7",
   "metadata": {},
   "outputs": [],
   "source": [
    "elig_df.head()"
   ]
  },
  {
   "cell_type": "code",
   "execution_count": null,
   "id": "cd1dd866",
   "metadata": {},
   "outputs": [],
   "source": [
    "elig_df.drop(elig_df.columns.difference(['Child ID', 'Init. Elig. Category']), axis=1, inplace=True)\n",
    "print(elig_df)"
   ]
  },
  {
   "cell_type": "code",
   "execution_count": null,
   "id": "f49fd98c",
   "metadata": {},
   "outputs": [],
   "source": [
    "eco_df = eco_df[eco_df['OC2 Data Check'] != 0]\n",
    "display(eco_df)"
   ]
  },
  {
   "cell_type": "code",
   "execution_count": null,
   "id": "640c7876",
   "metadata": {},
   "outputs": [],
   "source": [
    "eco_df = eco_df[eco_df['OC2 Data Check'].notna()]\n",
    "display(eco_df)"
   ]
  },
  {
   "cell_type": "code",
   "execution_count": null,
   "id": "761894d5",
   "metadata": {},
   "outputs": [],
   "source": [
    "eco_df.rename({'CHILD_ID':'child_id', 'Ent SOCIAL_SCALE':'ent_social', 'Ent KNOWLEDGE_SCALE':'ent_knowledge', 'Ent APPROPRIATE_ACTION_SCALE':'ent_app_action', 'Exit SOCIAL_SCALE':'exit_social', 'Exit KNOWLEDGE_SCALE':'exit_knowledge', 'Exit APPROPRIATE_ACTION_SCALE':'exit_app_action', 'OC1 - a':'oc1a', 'OC1 - b':'oc1b', 'OC1 - c':'oc1c', 'OC1 - d':'oc1d', 'OC1 - e':'oc1e', 'OC1 Data Check':'oc1_data_check', 'OC2 - a':'oc2a', 'OC2 - b':'oc2b', 'OC2 - c':'oc2c', 'OC2 - d':'oc2d', 'OC2 - e':'oc2e', 'OC2 Data Check':'oc2_data_check', 'OC3 - a':'oc3a', 'OC3 - b':'oc3b', 'OC3 - c':'oc3c', 'OC3 - d':'oc3d', 'OC3 - e':'oc3e', 'OC3 Data Check':'oc3_data_check'}, axis=1, inplace=True)"
   ]
  },
  {
   "cell_type": "code",
   "execution_count": null,
   "id": "1af764fe",
   "metadata": {},
   "outputs": [],
   "source": [
    "elig_df.rename({'Child ID':'child_id', 'Init. Elig. Category':'init_elig_category'}, axis=1, inplace=True)"
   ]
  },
  {
   "cell_type": "code",
   "execution_count": null,
   "id": "6bae684b",
   "metadata": {},
   "outputs": [],
   "source": [
    "eco_elig_combined = pd.merge(eco_df,elig_df, on='child_id')\n",
    "eco_elig_combined.info()"
   ]
  },
  {
   "cell_type": "code",
   "execution_count": null,
   "id": "9177a4f0",
   "metadata": {
    "scrolled": true
   },
   "outputs": [],
   "source": [
    "diff_by_elig = eco_elig_combined[['ent_social', 'ent_knowledge', 'ent_app_action', 'exit_social', 'exit_knowledge', 'exit_app_action', 'init_elig_category']]\n",
    "diff_by_elig['social_diff'] = diff_by_elig['exit_social'] - diff_by_elig['ent_social']\n",
    "diff_by_elig['knowledge_diff'] = diff_by_elig['exit_knowledge'] - diff_by_elig['ent_knowledge']\n",
    "diff_by_elig['app_action_diff'] = diff_by_elig['exit_app_action'] - diff_by_elig['ent_app_action']\n",
    "diff_by_elig = diff_by_elig[['social_diff', 'knowledge_diff', 'app_action_diff', 'init_elig_category']]\n",
    "display(diff_by_elig)"
   ]
  },
  {
   "cell_type": "markdown",
   "id": "c42e8134",
   "metadata": {},
   "source": [
    "## Sum improvement on all fronts based on elig category"
   ]
  },
  {
   "cell_type": "code",
   "execution_count": null,
   "id": "7edcbb48",
   "metadata": {},
   "outputs": [],
   "source": [
    "sum_improvement = diff_by_elig.groupby('init_elig_category').sum()\n",
    "sum_improvement['category_count'] = diff_by_elig.groupby(['init_elig_category'])['init_elig_category'].count()\n",
    "display(sum_improvement)"
   ]
  },
  {
   "cell_type": "code",
   "execution_count": null,
   "id": "fca54677",
   "metadata": {},
   "outputs": [],
   "source": []
  },
  {
   "cell_type": "markdown",
   "id": "fa8cdd9c",
   "metadata": {},
   "source": [
    "## Avg improvement on all fronts based on elig category"
   ]
  },
  {
   "cell_type": "code",
   "execution_count": null,
   "id": "463ab249",
   "metadata": {},
   "outputs": [],
   "source": [
    "avg_improvement = diff_by_elig.groupby('init_elig_category').mean()\n",
    "avg_improvement = avg_improvement.reset_index(level=0)\n",
    "display(avg_improvement)"
   ]
  },
  {
   "cell_type": "code",
   "execution_count": null,
   "id": "38309c8f",
   "metadata": {},
   "outputs": [],
   "source": [
    "avg_improvement.plot.bar(x='init_elig_category', stacked=True, title='Average Amount of Points Gained',figsize=(8,6), color=['gold', 'navy', 'crimson'])"
   ]
  },
  {
   "cell_type": "markdown",
   "id": "64a6d9f6",
   "metadata": {},
   "source": [
    "#### Cluster bar chart for the avg amount of points gained by test."
   ]
  },
  {
   "cell_type": "code",
   "execution_count": null,
   "id": "7c3fdb0a",
   "metadata": {},
   "outputs": [],
   "source": [
    "avg_improvement_cluster = avg_improvement\n",
    "avg_improvement_cluster.set_index('init_elig_category', inplace=True)\n",
    "avg_improvement_cluster.index.names = ['Eligibility Category']\n",
    "avg_improvement_cluster.rename(index={'Diagnosed Condition, Developmental Evaluation':'Both'},columns={'social_diff':'Social Difference','knowledge_diff':'Knowledge Difference', 'app_action_diff':'App Action Difference'}, inplace=True)\n",
    "display(avg_improvement_cluster)"
   ]
  },
  {
   "cell_type": "code",
   "execution_count": null,
   "id": "569a070d",
   "metadata": {},
   "outputs": [],
   "source": [
    "avg_improvement_cluster.plot.barh(title='Average Amount of Points Gained',figsize=(10,8), color=['goldenrod', 'navy', 'crimson'])"
   ]
  },
  {
   "cell_type": "markdown",
   "id": "9d157985",
   "metadata": {},
   "source": [
    "## Probability of applicant improving "
   ]
  },
  {
   "cell_type": "markdown",
   "id": "e4e2fedc",
   "metadata": {},
   "source": [
    "#### Counts of outcomes for the social category. "
   ]
  },
  {
   "cell_type": "code",
   "execution_count": null,
   "id": "b588e3f3",
   "metadata": {},
   "outputs": [],
   "source": [
    "social_outcomes = diff_by_elig['social_diff']\n",
    "social_gain = 0\n",
    "social_same = 0\n",
    "social_loss = 0\n",
    "for social_outcomes['social_diff'] in social_outcomes:\n",
    "    if social_outcomes['social_diff'] > 0:\n",
    "        social_gain += 1\n",
    "    elif social_outcomes['social_diff'] == 0:\n",
    "        social_same += 1\n",
    "    else:\n",
    "        social_loss += 1"
   ]
  },
  {
   "cell_type": "markdown",
   "id": "a20b43e7",
   "metadata": {},
   "source": [
    "#### Counts of outcomes for the knowledge category."
   ]
  },
  {
   "cell_type": "code",
   "execution_count": null,
   "id": "0b2deac8",
   "metadata": {},
   "outputs": [],
   "source": [
    "knowledge_outcomes = diff_by_elig['knowledge_diff']\n",
    "knowledge_gain = 0\n",
    "knowledge_same = 0\n",
    "knowledge_loss = 0\n",
    "for knowledge_outcomes['knowledge_diff'] in knowledge_outcomes:\n",
    "    if knowledge_outcomes['knowledge_diff'] > 0:\n",
    "        knowledge_gain += 1\n",
    "    elif knowledge_outcomes['knowledge_diff'] == 0:\n",
    "        knowledge_same += 1\n",
    "    else:\n",
    "        knowledge_loss += 1"
   ]
  },
  {
   "cell_type": "markdown",
   "id": "fba24a73",
   "metadata": {},
   "source": [
    "#### Counts of outcomes for the app action category."
   ]
  },
  {
   "cell_type": "code",
   "execution_count": null,
   "id": "638946e9",
   "metadata": {},
   "outputs": [],
   "source": [
    "app_action_outcomes = diff_by_elig['app_action_diff']\n",
    "action_gain = 0\n",
    "action_same = 0\n",
    "action_loss = 0\n",
    "for app_action_outcomes['app_action_diff'] in app_action_outcomes:\n",
    "    if app_action_outcomes['app_action_diff'] > 0:\n",
    "        action_gain += 1\n",
    "    elif app_action_outcomes['app_action_diff'] == 0:\n",
    "        action_same += 1\n",
    "    else:\n",
    "        action_loss += 1"
   ]
  },
  {
   "cell_type": "markdown",
   "id": "fd867a02",
   "metadata": {},
   "source": [
    "#### Data frame with the outcome counts."
   ]
  },
  {
   "cell_type": "code",
   "execution_count": null,
   "id": "8d7f2883",
   "metadata": {},
   "outputs": [],
   "source": [
    "outcome_data = {'outcome' : ['gain', 'stayed the same', 'loss'], 'social' : [social_gain, social_same, social_loss], 'knowledge' : [knowledge_gain, knowledge_same, knowledge_loss], 'app action' : [action_gain, action_same, action_loss]}\n",
    "outcome_counts = pd.DataFrame(outcome_data)\n",
    "display(outcome_counts)"
   ]
  },
  {
   "cell_type": "markdown",
   "id": "23e7fa9b",
   "metadata": {},
   "source": [
    "#### Data frame with the probability of each outcome."
   ]
  },
  {
   "cell_type": "code",
   "execution_count": null,
   "id": "de62240a",
   "metadata": {},
   "outputs": [],
   "source": [
    "outcome_probability_data = {'outcome' : ['gain', 'stay the same', 'loss'], 'social outcome' : [social_gain/summ(social_gain,social_loss,social_same), social_same/summ(social_gain,social_loss,social_same), social_loss/summ(social_gain,social_loss,social_same)], 'knowledge outcome' : [knowledge_gain/summ(knowledge_gain,knowledge_loss,knowledge_same), knowledge_same/summ(knowledge_gain,knowledge_loss,knowledge_same), knowledge_loss/summ(knowledge_gain,knowledge_loss,knowledge_same)], 'app action outcome' : [action_gain/summ(action_gain,action_loss,action_same), action_same/summ(action_gain,action_loss,action_same), action_loss/summ(action_gain,action_loss,action_same)]}\n",
    "outcome_probability = pd.DataFrame(outcome_probability_data)\n",
    "outcome_probability.set_index('outcome', inplace=True)\n",
    "display(outcome_probability)"
   ]
  },
  {
   "cell_type": "code",
   "execution_count": null,
   "id": "4660d230",
   "metadata": {},
   "outputs": [],
   "source": [
    "outcome_probability.plot(kind='pie', legend=False, autopct='%.0f%%', subplots=True, figsize=(14,8), colors=[colors[key] for key in labels], title='Overall Outcomes')"
   ]
  },
  {
   "cell_type": "markdown",
   "id": "76cdc937",
   "metadata": {},
   "source": [
    "## Probability of applicant improving based on the elig category"
   ]
  },
  {
   "cell_type": "markdown",
   "id": "7649a580",
   "metadata": {},
   "source": [
    "### Developmental Evaluation:"
   ]
  },
  {
   "cell_type": "code",
   "execution_count": null,
   "id": "cb2de3ca",
   "metadata": {
    "scrolled": true
   },
   "outputs": [],
   "source": [
    "diff_by_dev_eval = diff_by_elig[(diff_by_elig.init_elig_category == 'Developmental Evaluation')]\n",
    "display(diff_by_dev_eval)"
   ]
  },
  {
   "cell_type": "markdown",
   "id": "b0c8436c",
   "metadata": {},
   "source": [
    "#### Counts of social outcomes for the Developmental Evaluation category."
   ]
  },
  {
   "cell_type": "code",
   "execution_count": null,
   "id": "a593cb82",
   "metadata": {},
   "outputs": [],
   "source": [
    "social_outcomes_de = diff_by_dev_eval['social_diff']\n",
    "social_gain_de = 0\n",
    "social_same_de = 0\n",
    "social_loss_de = 0\n",
    "for social_outcomes_de['social_diff'] in social_outcomes_de:\n",
    "    if social_outcomes_de['social_diff'] > 0:\n",
    "        social_gain_de += 1\n",
    "    elif social_outcomes_de['social_diff'] == 0:\n",
    "        social_same_de += 1\n",
    "    else:\n",
    "        social_loss_de += 1"
   ]
  },
  {
   "cell_type": "markdown",
   "id": "c64cda02",
   "metadata": {},
   "source": [
    "#### Counts of knowledge outcomes for the Developmental Evaluation category."
   ]
  },
  {
   "cell_type": "code",
   "execution_count": null,
   "id": "274fdfbd",
   "metadata": {},
   "outputs": [],
   "source": [
    "knowledge_outcomes_de = diff_by_dev_eval['knowledge_diff']\n",
    "knowledge_gain_de = 0\n",
    "knowledge_same_de = 0\n",
    "knowledge_loss_de = 0\n",
    "for knowledge_outcomes_de['knowledge_diff'] in knowledge_outcomes_de:\n",
    "    if knowledge_outcomes_de['knowledge_diff'] > 0:\n",
    "        knowledge_gain_de += 1\n",
    "    elif knowledge_outcomes_de['knowledge_diff'] == 0:\n",
    "        knowledge_same_de += 1\n",
    "    else:\n",
    "        knowledge_loss_de += 1"
   ]
  },
  {
   "cell_type": "markdown",
   "id": "f97e209c",
   "metadata": {},
   "source": [
    "#### Counts of app action outcomes by the Developmental Evaluation category."
   ]
  },
  {
   "cell_type": "code",
   "execution_count": null,
   "id": "80337ba7",
   "metadata": {},
   "outputs": [],
   "source": [
    "app_action_outcomes_de = diff_by_dev_eval['app_action_diff']\n",
    "action_gain_de = 0\n",
    "action_same_de = 0\n",
    "action_loss_de = 0\n",
    "for app_action_outcomes_de['app_action_diff'] in app_action_outcomes_de:\n",
    "    if app_action_outcomes_de['app_action_diff'] > 0:\n",
    "        action_gain_de += 1\n",
    "    elif app_action_outcomes_de['app_action_diff'] == 0:\n",
    "        action_same_de += 1\n",
    "    else:\n",
    "        action_loss_de += 1"
   ]
  },
  {
   "cell_type": "markdown",
   "id": "684c2062",
   "metadata": {},
   "source": [
    "#### Data frame with outcome counts for Developmental Evaluation."
   ]
  },
  {
   "cell_type": "code",
   "execution_count": null,
   "id": "ffd55daf",
   "metadata": {},
   "outputs": [],
   "source": [
    "outcome_data_de = {'outcome' : ['gain', 'stayed the same', 'loss'], 'social' : [social_gain_de, social_same_de, social_loss_de], 'knowledge' : [knowledge_gain_de, knowledge_same_de, knowledge_loss_de], 'app action' : [action_gain_de, action_same_de, action_loss_de]}\n",
    "dev_eval_counts = pd.DataFrame(outcome_data_de)\n",
    "display(dev_eval_counts)"
   ]
  },
  {
   "cell_type": "markdown",
   "id": "32808cf8",
   "metadata": {},
   "source": [
    "#### Data frame with the probability for each outcome in the Developmental Evaluation category."
   ]
  },
  {
   "cell_type": "code",
   "execution_count": null,
   "id": "262ec303",
   "metadata": {
    "scrolled": true
   },
   "outputs": [],
   "source": [
    "outcome_probability_data_de = {'outcome' : ['gain', 'stay the same', 'loss'], 'social outcome' : [social_gain_de/summ(social_gain_de,social_loss_de,social_same_de), social_same_de/summ(social_gain_de,social_loss_de,social_same_de), social_loss_de/summ(social_gain_de,social_loss_de,social_same_de)], 'knowledge outcome' : [knowledge_gain_de/summ(knowledge_gain_de,knowledge_loss_de,knowledge_same_de), knowledge_same_de/summ(knowledge_gain_de,knowledge_loss_de,knowledge_same_de), knowledge_loss_de/summ(knowledge_gain_de,knowledge_loss_de,knowledge_same_de)], 'app action outcome' : [action_gain_de/summ(action_gain_de,action_loss_de,action_same_de), action_same_de/summ(action_gain_de,action_loss_de,action_same_de), action_loss_de/summ(action_gain_de,action_loss_de,action_same_de)]}\n",
    "dev_eval_probability = pd.DataFrame(outcome_probability_data_de)\n",
    "display(dev_eval_probability)"
   ]
  },
  {
   "cell_type": "markdown",
   "id": "22b468d8",
   "metadata": {},
   "source": [
    "### Diagnosed Condition:"
   ]
  },
  {
   "cell_type": "code",
   "execution_count": null,
   "id": "d2815de0",
   "metadata": {},
   "outputs": [],
   "source": [
    "diff_by_dia_con = diff_by_elig[(diff_by_elig.init_elig_category == 'Diagnosed Condition')]\n",
    "display(diff_by_dia_con)"
   ]
  },
  {
   "cell_type": "markdown",
   "id": "7e56886c",
   "metadata": {},
   "source": [
    "#### Counts of social outcomes for the Diagnosed Condition category."
   ]
  },
  {
   "cell_type": "code",
   "execution_count": null,
   "id": "68f560ef",
   "metadata": {},
   "outputs": [],
   "source": [
    "social_outcomes_dc = diff_by_dia_con['social_diff']\n",
    "social_gain_dc = 0\n",
    "social_same_dc = 0\n",
    "social_loss_dc = 0\n",
    "for social_outcomes_dc['social_diff'] in social_outcomes_dc:\n",
    "    if social_outcomes_dc['social_diff'] > 0:\n",
    "        social_gain_dc += 1\n",
    "    elif social_outcomes_dc['social_diff'] == 0:\n",
    "        social_same_dc += 1\n",
    "    else:\n",
    "        social_loss_dc += 1"
   ]
  },
  {
   "cell_type": "markdown",
   "id": "5d661ec2",
   "metadata": {},
   "source": [
    "#### Counts of knowledge outcomes for the Diagnosed Condition category."
   ]
  },
  {
   "cell_type": "code",
   "execution_count": null,
   "id": "b61798ba",
   "metadata": {},
   "outputs": [],
   "source": [
    "knowledge_outcomes_dc = diff_by_dia_con['knowledge_diff']\n",
    "knowledge_gain_dc = 0\n",
    "knowledge_same_dc = 0\n",
    "knowledge_loss_dc = 0\n",
    "for knowledge_outcomes_dc['knowledge_diff'] in knowledge_outcomes_dc:\n",
    "    if knowledge_outcomes_dc['knowledge_diff'] > 0:\n",
    "        knowledge_gain_dc += 1\n",
    "    elif knowledge_outcomes_dc['knowledge_diff'] == 0:\n",
    "        knowledge_same_dc += 1\n",
    "    else:\n",
    "        knowledge_loss_dc += 1"
   ]
  },
  {
   "cell_type": "markdown",
   "id": "d91b49eb",
   "metadata": {},
   "source": [
    "#### Counts of app action outcomes for the Diagnosed Condition category."
   ]
  },
  {
   "cell_type": "code",
   "execution_count": null,
   "id": "baeba552",
   "metadata": {},
   "outputs": [],
   "source": [
    "app_action_outcomes_dc = diff_by_dia_con['app_action_diff']\n",
    "action_gain_dc = 0\n",
    "action_same_dc = 0\n",
    "action_loss_dc = 0\n",
    "for app_action_outcomes_dc['app_action_diff'] in app_action_outcomes_dc:\n",
    "    if app_action_outcomes_dc['app_action_diff'] > 0:\n",
    "        action_gain_dc += 1\n",
    "    elif app_action_outcomes_dc['app_action_diff'] == 0:\n",
    "        action_same_dc += 1\n",
    "    else:\n",
    "        action_loss_dc += 1"
   ]
  },
  {
   "cell_type": "markdown",
   "id": "3e46e8b1",
   "metadata": {},
   "source": [
    "#### Data frame with the outcome counts for Diagnosed Condition."
   ]
  },
  {
   "cell_type": "code",
   "execution_count": null,
   "id": "3fdb5b1a",
   "metadata": {},
   "outputs": [],
   "source": [
    "outcome_data_dc = {'outcome' : ['gain', 'stayed the same', 'loss'], 'social' : [social_gain_dc, social_same_dc, social_loss_dc], 'knowledge' : [knowledge_gain_dc, knowledge_same_dc, knowledge_loss_dc], 'app action' : [action_gain_dc, action_same_dc, action_loss_dc]}\n",
    "dia_con_counts = pd.DataFrame(outcome_data_dc)\n",
    "display(dia_con_counts)"
   ]
  },
  {
   "cell_type": "markdown",
   "id": "71a59ea7",
   "metadata": {},
   "source": [
    "#### Data frame with the outcome probabilities in the Diagnosed Condition category."
   ]
  },
  {
   "cell_type": "code",
   "execution_count": null,
   "id": "60d0673d",
   "metadata": {},
   "outputs": [],
   "source": [
    "outcome_probability_data_dc = {'outcome' : ['gain', 'stay the same', 'loss'], 'social outcome' : [social_gain_dc/summ(social_gain_dc,social_loss_dc,social_same_dc), social_same_dc/summ(social_gain_dc,social_loss_dc,social_same_dc), social_loss_dc/summ(social_gain_dc,social_loss_dc,social_same_dc)], 'knowledge outcome' : [knowledge_gain_dc/summ(knowledge_gain_dc,knowledge_loss_dc,knowledge_same_dc), knowledge_same_dc/summ(knowledge_gain_dc,knowledge_loss_dc,knowledge_same_dc), knowledge_loss_dc/summ(knowledge_gain_dc,knowledge_loss_dc,knowledge_same_dc)], 'app action outcome' : [action_gain_dc/summ(action_gain_dc,action_loss_dc,action_same_dc), action_same_dc/summ(action_gain_dc,action_loss_dc,action_same_dc), action_loss_dc/summ(action_gain_dc,action_loss_dc,action_same_dc)]}\n",
    "dia_con_probability = pd.DataFrame(outcome_probability_data_dc)\n",
    "display(dia_con_probability)"
   ]
  },
  {
   "cell_type": "markdown",
   "id": "205cdbf4",
   "metadata": {},
   "source": [
    "### Both, Developmental Evaluation & Diagnosed Condition:"
   ]
  },
  {
   "cell_type": "code",
   "execution_count": null,
   "id": "fd096a85",
   "metadata": {},
   "outputs": [],
   "source": [
    "diff_by_both = diff_by_elig[(diff_by_elig.init_elig_category == 'Diagnosed Condition, Developmental Evaluation')]\n",
    "display(diff_by_both)"
   ]
  },
  {
   "cell_type": "markdown",
   "id": "add5bd49",
   "metadata": {},
   "source": [
    "#### Counts of social outcomes for the \"both\" category."
   ]
  },
  {
   "cell_type": "code",
   "execution_count": null,
   "id": "ec21f151",
   "metadata": {},
   "outputs": [],
   "source": [
    "social_outcomes_b = diff_by_both['social_diff']\n",
    "social_gain_b = 0\n",
    "social_same_b = 0\n",
    "social_loss_b = 0\n",
    "for social_outcomes_b['social_diff'] in social_outcomes_b:\n",
    "    if social_outcomes_b['social_diff'] > 0:\n",
    "        social_gain_b += 1\n",
    "    elif social_outcomes_b['social_diff'] == 0:\n",
    "        social_same_b += 1\n",
    "    else:\n",
    "        social_loss_b += 1"
   ]
  },
  {
   "cell_type": "markdown",
   "id": "be7cb7b5",
   "metadata": {},
   "source": [
    "#### Counts of knowledge outcomes for the \"both\" category."
   ]
  },
  {
   "cell_type": "code",
   "execution_count": null,
   "id": "de1a0ff9",
   "metadata": {},
   "outputs": [],
   "source": [
    "knowledge_outcomes_b = diff_by_both['knowledge_diff']\n",
    "knowledge_gain_b = 0\n",
    "knowledge_same_b = 0\n",
    "knowledge_loss_b = 0\n",
    "for knowledge_outcomes_b['knowledge_diff'] in knowledge_outcomes_b:\n",
    "    if knowledge_outcomes_b['knowledge_diff'] > 0:\n",
    "        knowledge_gain_b += 1\n",
    "    elif knowledge_outcomes_b['knowledge_diff'] == 0:\n",
    "        knowledge_same_b += 1\n",
    "    else:\n",
    "        knowledge_loss_b += 1"
   ]
  },
  {
   "cell_type": "markdown",
   "id": "4b09c262",
   "metadata": {},
   "source": [
    "#### Counts of app action outcomes for the \"both\" category."
   ]
  },
  {
   "cell_type": "code",
   "execution_count": null,
   "id": "80016049",
   "metadata": {},
   "outputs": [],
   "source": [
    "app_action_outcomes_b = diff_by_both['app_action_diff']\n",
    "action_gain_b = 0\n",
    "action_same_b = 0\n",
    "action_loss_b = 0\n",
    "for app_action_outcomes_b['app_action_diff'] in app_action_outcomes_b:\n",
    "    if app_action_outcomes_b['app_action_diff'] > 0:\n",
    "        action_gain_b += 1\n",
    "    elif app_action_outcomes_b['app_action_diff'] == 0:\n",
    "        action_same_b += 1\n",
    "    else:\n",
    "        action_loss_b += 1"
   ]
  },
  {
   "cell_type": "markdown",
   "id": "45f57f66",
   "metadata": {},
   "source": [
    "#### Data frame with outcome counts for the \"both\" category."
   ]
  },
  {
   "cell_type": "code",
   "execution_count": null,
   "id": "5329ebf6",
   "metadata": {},
   "outputs": [],
   "source": [
    "outcome_data_b = {'outcome' : ['gain', 'stayed the same', 'loss'], 'social' : [social_gain_b, social_same_b, social_loss_b], 'knowledge' : [knowledge_gain_b, knowledge_same_b, knowledge_loss_b], 'app action' : [action_gain_b, action_same_b, action_loss_b]}\n",
    "both_counts = pd.DataFrame(outcome_data_b)\n",
    "display(both_counts)"
   ]
  },
  {
   "cell_type": "markdown",
   "id": "7c839914",
   "metadata": {},
   "source": [
    "#### Data frame with the outcome probabilities for the \"both\" category."
   ]
  },
  {
   "cell_type": "code",
   "execution_count": null,
   "id": "45ec971e",
   "metadata": {},
   "outputs": [],
   "source": [
    "outcome_probability_data_b = {'outcome' : ['gain', 'stay the same', 'loss'], 'social outcome' : [social_gain_b/summ(social_gain_b,social_loss_b,social_same_b), social_same_b/summ(social_gain_b,social_loss_b,social_same_b), social_loss_b/summ(social_gain_b,social_loss_b,social_same_b)], 'knowledge outcome' : [knowledge_gain_b/summ(knowledge_gain_b,knowledge_loss_b,knowledge_same_b), knowledge_same_b/summ(knowledge_gain_b,knowledge_loss_b,knowledge_same_b), knowledge_loss_b/summ(knowledge_gain_b,knowledge_loss_b,knowledge_same_b)], 'app action outcome' : [action_gain_b/summ(action_gain_b,action_loss_b,action_same_b), action_same_b/summ(action_gain_b,action_loss_b,action_same_b), action_loss_b/summ(action_gain_b,action_loss_b,action_same_b)]}\n",
    "both_probability = pd.DataFrame(outcome_probability_data_b)\n",
    "display(both_probability)"
   ]
  },
  {
   "cell_type": "markdown",
   "id": "a472f19a",
   "metadata": {},
   "source": [
    "## Graphs for the collected data."
   ]
  },
  {
   "cell_type": "code",
   "execution_count": null,
   "id": "ed601b79",
   "metadata": {},
   "outputs": [],
   "source": [
    "labels = ['gain', 'stay the same', 'loss']\n",
    "colors = {'gain':'C2', 'stay the same':'C1', 'loss':'C3'}"
   ]
  },
  {
   "cell_type": "markdown",
   "id": "49cd9da9",
   "metadata": {},
   "source": [
    "#### Pie chart for Developmental Evaluation probabilities."
   ]
  },
  {
   "cell_type": "code",
   "execution_count": null,
   "id": "e652e029",
   "metadata": {
    "scrolled": true
   },
   "outputs": [],
   "source": [
    "dev_eval_probability.set_index('outcome', inplace=True)\n",
    "display(dev_eval_probability)"
   ]
  },
  {
   "cell_type": "code",
   "execution_count": null,
   "id": "6f60c3c3",
   "metadata": {
    "scrolled": true
   },
   "outputs": [],
   "source": [
    "dev_eval_probability.plot(kind='pie', legend=False, autopct='%.0f%%', subplots=True, figsize=(14,8), colors=[colors[key] for key in labels], title='Developmental Evaluation')"
   ]
  },
  {
   "cell_type": "markdown",
   "id": "6c8b3c4d",
   "metadata": {},
   "source": [
    "#### Pie chart for Diagnosed Condition probabilities."
   ]
  },
  {
   "cell_type": "code",
   "execution_count": null,
   "id": "ed8a0d42",
   "metadata": {},
   "outputs": [],
   "source": [
    "dia_con_probability.set_index('outcome', inplace=True)\n",
    "display(dia_con_probability)"
   ]
  },
  {
   "cell_type": "code",
   "execution_count": null,
   "id": "4a7d4de7",
   "metadata": {
    "scrolled": false
   },
   "outputs": [],
   "source": [
    "dia_con_probability.plot(kind='pie', legend=False, autopct='%.0f%%', subplots=True, figsize=(14,8), colors=[colors[key] for key in labels], title='Diagnosed Condition')"
   ]
  },
  {
   "cell_type": "markdown",
   "id": "2abc881e",
   "metadata": {},
   "source": [
    "#### Pie chart for the probabilities of the \"both\" category."
   ]
  },
  {
   "cell_type": "code",
   "execution_count": null,
   "id": "eca1b8d9",
   "metadata": {},
   "outputs": [],
   "source": [
    "both_probability.set_index('outcome', inplace=True)\n",
    "display(both_probability)"
   ]
  },
  {
   "cell_type": "code",
   "execution_count": null,
   "id": "03ea874a",
   "metadata": {
    "scrolled": false
   },
   "outputs": [],
   "source": [
    "both_probability.plot(kind='pie', legend=False, autopct='%.0f%%', subplots=True, figsize=(14,8), colors=[colors[key] for key in labels], title='Both')"
   ]
  },
  {
   "cell_type": "code",
   "execution_count": null,
   "id": "2d42c1a3",
   "metadata": {},
   "outputs": [],
   "source": []
  },
  {
   "cell_type": "code",
   "execution_count": null,
   "id": "c9ec1c54",
   "metadata": {},
   "outputs": [],
   "source": []
  },
  {
   "cell_type": "code",
   "execution_count": null,
   "id": "58dc4542",
   "metadata": {},
   "outputs": [],
   "source": []
  }
 ],
 "metadata": {
  "kernelspec": {
   "display_name": "Python 3 (ipykernel)",
   "language": "python",
   "name": "python3"
  },
  "language_info": {
   "codemirror_mode": {
    "name": "ipython",
    "version": 3
   },
   "file_extension": ".py",
   "mimetype": "text/x-python",
   "name": "python",
   "nbconvert_exporter": "python",
   "pygments_lexer": "ipython3",
   "version": "3.9.12"
  }
 },
 "nbformat": 4,
 "nbformat_minor": 5
}
